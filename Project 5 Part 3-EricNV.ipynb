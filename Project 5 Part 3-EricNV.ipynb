{
 "cells": [
  {
   "cell_type": "markdown",
   "id": "99d6d585-98a4-43c0-b43d-1298932608c3",
   "metadata": {},
   "source": [
    "# <u><center> Project 5: Part 3 Core\n",
    "* Authored By: Eric N. Valdez\n",
    "* Date: 03-17-2024"
   ]
  },
  {
   "cell_type": "markdown",
   "id": "61827948-640f-422e-b00d-4df3fe8192a8",
   "metadata": {},
   "source": [
    "# <u>Imports:"
   ]
  },
  {
   "cell_type": "code",
   "execution_count": 44,
   "id": "35dc831c-3f2b-45ac-8f6f-d7127a8a1576",
   "metadata": {},
   "outputs": [],
   "source": [
    "#Basic Imports\n",
    "import pandas as pd\n",
    "import numpy as np\n",
    "import matplotlib.pyplot as plt\n",
    "import seaborn as sns\n",
    "\n",
    "# Preprocessing tools\n",
    "from sklearn.preprocessing import StandardScaler, OneHotEncoder\n",
    "from sklearn.model_selection import train_test_split\n",
    "from sklearn.impute import SimpleImputer\n",
    "from sklearn.pipeline import make_pipeline\n",
    "from sklearn.compose import ColumnTransformer\n",
    "\n",
    "# Deep learning tools\n",
    "import tensorflow as tf\n",
    "import tensorflow.keras as keras\n",
    "from tensorflow import keras\n",
    "from tensorflow.keras.models import Sequential\n",
    "from tensorflow.keras.layers import Dense, Dropout\n",
    "from tensorflow.keras.callbacks import EarlyStopping\n",
    "from tensorflow.keras import Sequential\n",
    "from tensorflow.keras import metrics\n",
    "from tensorflow.keras.layers import Dense, Dropout\n",
    "from tensorflow.keras.callbacks import EarlyStopping\n",
    "from tensorflow.keras.metrics import RootMeanSquaredError\n",
    "\n",
    "#Evaluation tools\n",
    "from sklearn.metrics import ConfusionMatrixDisplay, classification_report\n",
    "from tensorflow import metrics\n",
    "from sklearn.preprocessing import StandardScaler, MinMaxScaler, LabelEncoder\n",
    "from sklearn.cluster import KMeans\n",
    "from sklearn.metrics import silhouette_score, mean_squared_error, r2_score\n",
    "from sklearn.metrics import recall_score, precision_score, accuracy_score, f1_score, \\\n",
    "classification_report, ConfusionMatrixDisplay, mean_absolute_error\n",
    "from sklearn.decomposition import PCA\n",
    "from sklearn.model_selection import train_test_split\n",
    "\n",
    "from sklearn import set_config, config_context\n",
    "set_config(transform_output='pandas')\n",
    "pd.set_option(\"display.max_rows\", 999)\n",
    "pd.set_option(\"display.max_columns\", 999)\n",
    "\n",
    "# Set random seeds for consistent outcomes\n",
    "keras.backend.clear_session()\n",
    "np.random.seed(42)\n",
    "tf.random.set_seed(42)"
   ]
  },
  {
   "cell_type": "markdown",
   "id": "99be5a0a-dc8f-4a75-9b8e-24970907a9a7",
   "metadata": {},
   "source": [
    "# <u>Custome Functions:"
   ]
  },
  {
   "cell_type": "code",
   "execution_count": 2,
   "id": "de33a6c8-121f-41a9-9c3a-24167203bcc8",
   "metadata": {},
   "outputs": [],
   "source": [
    "# Custom function for plotting each metric\n",
    "def plot_history(history, figsize=(6,12), marker='o'):\n",
    "       \n",
    "    # Get list of metrics from history\n",
    "    metrics = [c for c in history.history if not c.startswith('val_')]\n",
    "    \n",
    "    ## Separate row for each metric\n",
    "    fig, axes = plt.subplots(nrows=len(metrics),figsize=figsize)\n",
    "    \n",
    "    # For each metric\n",
    "    for i, metric_name in enumerate(metrics):\n",
    "    \n",
    "        # Get the axis for the current metric\n",
    "        ax = axes[i]\n",
    "    \n",
    "        # Get metric from history.history\n",
    "        metric_values = history.history[metric_name]\n",
    "        # Get epochs from history\n",
    "        epochs = history.epoch\n",
    "    \n",
    "        # Plot the training metric\n",
    "        ax.plot(epochs, metric_values, label=metric_name, marker=marker)\n",
    "    \n",
    "        ## Check if val_{metric} exists. if so, plot:\n",
    "        val_metric_name = f\"val_{metric_name}\"\n",
    "        if val_metric_name in history.history:\n",
    "            # Get validation values and plot\n",
    "            metric_values = history.history[val_metric_name]\n",
    "            ax.plot(epochs,metric_values,label=val_metric_name, marker=marker)\n",
    "    \n",
    "        # Final subplot adjustments \n",
    "        ax.legend()\n",
    "        ax.set_title(metric_name)\n",
    "    fig.tight_layout()\n",
    "\n",
    "    return fig, axes"
   ]
  },
  {
   "cell_type": "code",
   "execution_count": 3,
   "id": "169de8a4-2a05-4824-b891-1e6ec591edff",
   "metadata": {},
   "outputs": [],
   "source": [
    "def eval_classification(true, pred, name, labels=None):\n",
    "    \"\"\"shows classification_report and confusion matrix\n",
    "    for classification model predictions.  Outputs a dataframe of metrics\"\"\"\n",
    "\n",
    "    print(name, '\\n')\n",
    "    print(classification_report(true, pred, target_names=labels))\n",
    "    ConfusionMatrixDisplay.from_predictions(true, pred, display_labels=labels, )\n",
    "\n",
    "    plt.show()\n",
    "\n",
    "    scores = pd.DataFrame()\n",
    "    scores['Model Name'] = [name]\n",
    "    scores['Precision'] = [precision_score(true, pred)]\n",
    "    scores['Recall'] = [recall_score(true, pred)]\n",
    "    scores['F1 Score'] = [f1_score(true, pred)]\n",
    "    scores['Accuracy'] = [accuracy_score(true, pred)]\n",
    "    scores.set_index('Model Name', inplace=True)\n",
    "\n",
    "    return scores"
   ]
  },
  {
   "cell_type": "markdown",
   "id": "1a6629a9-b9ed-4ab6-b8eb-1e7cab654313",
   "metadata": {},
   "source": [
    "# <u>Task:\n",
    "* Build a small neural Network (with only 1 hidden layer)\n",
    "   * Ensure the Final layer is appropriate for your task (number of units and activation function)\n",
    "   * Fit it for 50 epochs\n",
    "       *  Use Early Stopping callbacks\n",
    "           * Start with patience = 5 monitoring val_accuracy.\n",
    "       * Use a validation_split of 2\n",
    "       * Save the history and visualize it.  \n",
    "    * Evaluate the model using sklearn evaluation metrics:\n",
    "        * Confusion Matrix\n",
    "        * Classification Report\n",
    "        * You are Welcome to use the custom  evaluation functions  "
   ]
  },
  {
   "cell_type": "markdown",
   "id": "a661008f-d0e0-41e1-8fe7-436d9f6881ec",
   "metadata": {},
   "source": [
    "* Tune at least 3 parameters with Keras tuner:\n",
    "    * Include a dropout layer and adjust the dropout rate\n",
    "    * Number of units\n",
    "    * Optimizer\n",
    "    * Learning rates \n",
    "* Evaluate your best model on unseen test data"
   ]
  },
  {
   "cell_type": "markdown",
   "id": "a411e765-13b6-41b9-860e-9b15513f399a",
   "metadata": {},
   "source": [
    "# <u>Load Data:"
   ]
  },
  {
   "cell_type": "code",
   "execution_count": 4,
   "id": "b05e2919-4c25-4b80-989a-e548075dd910",
   "metadata": {},
   "outputs": [
    {
     "data": {
      "text/html": [
       "<div>\n",
       "<style scoped>\n",
       "    .dataframe tbody tr th:only-of-type {\n",
       "        vertical-align: middle;\n",
       "    }\n",
       "\n",
       "    .dataframe tbody tr th {\n",
       "        vertical-align: top;\n",
       "    }\n",
       "\n",
       "    .dataframe thead th {\n",
       "        text-align: right;\n",
       "    }\n",
       "</style>\n",
       "<table border=\"1\" class=\"dataframe\">\n",
       "  <thead>\n",
       "    <tr style=\"text-align: right;\">\n",
       "      <th></th>\n",
       "      <th>Age</th>\n",
       "      <th>Sex</th>\n",
       "      <th>Marital</th>\n",
       "      <th>Income</th>\n",
       "      <th>Race</th>\n",
       "      <th>WaistCirc</th>\n",
       "      <th>BMI</th>\n",
       "      <th>Albuminuria</th>\n",
       "      <th>UrAlbCr</th>\n",
       "      <th>UricAcid</th>\n",
       "      <th>BloodGlucose</th>\n",
       "      <th>HDL</th>\n",
       "      <th>Triglycerides</th>\n",
       "      <th>MetabolicSyndrome</th>\n",
       "    </tr>\n",
       "    <tr>\n",
       "      <th>seqn</th>\n",
       "      <th></th>\n",
       "      <th></th>\n",
       "      <th></th>\n",
       "      <th></th>\n",
       "      <th></th>\n",
       "      <th></th>\n",
       "      <th></th>\n",
       "      <th></th>\n",
       "      <th></th>\n",
       "      <th></th>\n",
       "      <th></th>\n",
       "      <th></th>\n",
       "      <th></th>\n",
       "      <th></th>\n",
       "    </tr>\n",
       "  </thead>\n",
       "  <tbody>\n",
       "    <tr>\n",
       "      <th>62161</th>\n",
       "      <td>22</td>\n",
       "      <td>Male</td>\n",
       "      <td>Single</td>\n",
       "      <td>8200.00000</td>\n",
       "      <td>White</td>\n",
       "      <td>81.0</td>\n",
       "      <td>23.3</td>\n",
       "      <td>0</td>\n",
       "      <td>3.88</td>\n",
       "      <td>4.9</td>\n",
       "      <td>92</td>\n",
       "      <td>41</td>\n",
       "      <td>84</td>\n",
       "      <td>No MetSyn</td>\n",
       "    </tr>\n",
       "    <tr>\n",
       "      <th>62164</th>\n",
       "      <td>44</td>\n",
       "      <td>Female</td>\n",
       "      <td>Married</td>\n",
       "      <td>4500.00000</td>\n",
       "      <td>White</td>\n",
       "      <td>80.1</td>\n",
       "      <td>23.2</td>\n",
       "      <td>0</td>\n",
       "      <td>8.55</td>\n",
       "      <td>4.5</td>\n",
       "      <td>82</td>\n",
       "      <td>28</td>\n",
       "      <td>56</td>\n",
       "      <td>No MetSyn</td>\n",
       "    </tr>\n",
       "    <tr>\n",
       "      <th>62169</th>\n",
       "      <td>21</td>\n",
       "      <td>Male</td>\n",
       "      <td>Single</td>\n",
       "      <td>800.00000</td>\n",
       "      <td>Asian</td>\n",
       "      <td>69.6</td>\n",
       "      <td>20.1</td>\n",
       "      <td>0</td>\n",
       "      <td>5.07</td>\n",
       "      <td>5.4</td>\n",
       "      <td>107</td>\n",
       "      <td>43</td>\n",
       "      <td>78</td>\n",
       "      <td>No MetSyn</td>\n",
       "    </tr>\n",
       "    <tr>\n",
       "      <th>62172</th>\n",
       "      <td>43</td>\n",
       "      <td>Female</td>\n",
       "      <td>Single</td>\n",
       "      <td>2000.00000</td>\n",
       "      <td>Black</td>\n",
       "      <td>120.4</td>\n",
       "      <td>33.3</td>\n",
       "      <td>0</td>\n",
       "      <td>5.22</td>\n",
       "      <td>5.0</td>\n",
       "      <td>104</td>\n",
       "      <td>73</td>\n",
       "      <td>141</td>\n",
       "      <td>No MetSyn</td>\n",
       "    </tr>\n",
       "    <tr>\n",
       "      <th>62177</th>\n",
       "      <td>51</td>\n",
       "      <td>Male</td>\n",
       "      <td>Married</td>\n",
       "      <td>4005.25394</td>\n",
       "      <td>Asian</td>\n",
       "      <td>81.1</td>\n",
       "      <td>20.1</td>\n",
       "      <td>0</td>\n",
       "      <td>8.13</td>\n",
       "      <td>5.0</td>\n",
       "      <td>95</td>\n",
       "      <td>43</td>\n",
       "      <td>126</td>\n",
       "      <td>No MetSyn</td>\n",
       "    </tr>\n",
       "  </tbody>\n",
       "</table>\n",
       "</div>"
      ],
      "text/plain": [
       "       Age     Sex  Marital      Income   Race  WaistCirc   BMI  Albuminuria  \\\n",
       "seqn                                                                           \n",
       "62161   22    Male   Single  8200.00000  White       81.0  23.3            0   \n",
       "62164   44  Female  Married  4500.00000  White       80.1  23.2            0   \n",
       "62169   21    Male   Single   800.00000  Asian       69.6  20.1            0   \n",
       "62172   43  Female   Single  2000.00000  Black      120.4  33.3            0   \n",
       "62177   51    Male  Married  4005.25394  Asian       81.1  20.1            0   \n",
       "\n",
       "       UrAlbCr  UricAcid  BloodGlucose  HDL  Triglycerides MetabolicSyndrome  \n",
       "seqn                                                                          \n",
       "62161     3.88       4.9            92   41             84         No MetSyn  \n",
       "62164     8.55       4.5            82   28             56         No MetSyn  \n",
       "62169     5.07       5.4           107   43             78         No MetSyn  \n",
       "62172     5.22       5.0           104   73            141         No MetSyn  \n",
       "62177     8.13       5.0            95   43            126         No MetSyn  "
      ]
     },
     "execution_count": 4,
     "metadata": {},
     "output_type": "execute_result"
    }
   ],
   "source": [
    "# Loading clean data that I created from Part1\n",
    "df = pd.read_csv('Data/clean_MetSyndr.csv', index_col = 'seqn')\n",
    "df.head()"
   ]
  },
  {
   "cell_type": "code",
   "execution_count": 6,
   "id": "e904b896-fa15-4569-9ff5-00f7ec71feba",
   "metadata": {},
   "outputs": [
    {
     "name": "stdout",
     "output_type": "stream",
     "text": [
      "<class 'pandas.core.frame.DataFrame'>\n",
      "Int64Index: 2401 entries, 62161 to 71915\n",
      "Data columns (total 14 columns):\n",
      " #   Column             Non-Null Count  Dtype  \n",
      "---  ------             --------------  -----  \n",
      " 0   Age                2401 non-null   int64  \n",
      " 1   Sex                2401 non-null   object \n",
      " 2   Marital            2401 non-null   object \n",
      " 3   Income             2401 non-null   float64\n",
      " 4   Race               2401 non-null   object \n",
      " 5   WaistCirc          2401 non-null   float64\n",
      " 6   BMI                2401 non-null   float64\n",
      " 7   Albuminuria        2401 non-null   int64  \n",
      " 8   UrAlbCr            2401 non-null   float64\n",
      " 9   UricAcid           2401 non-null   float64\n",
      " 10  BloodGlucose       2401 non-null   int64  \n",
      " 11  HDL                2401 non-null   int64  \n",
      " 12  Triglycerides      2401 non-null   int64  \n",
      " 13  MetabolicSyndrome  2401 non-null   object \n",
      "dtypes: float64(5), int64(5), object(4)\n",
      "memory usage: 281.4+ KB\n"
     ]
    }
   ],
   "source": [
    "df.info()"
   ]
  },
  {
   "cell_type": "code",
   "execution_count": 7,
   "id": "a1d97eb2-1019-4ec9-8bec-6f05e99b1002",
   "metadata": {},
   "outputs": [
    {
     "data": {
      "text/plain": [
       "0"
      ]
     },
     "execution_count": 7,
     "metadata": {},
     "output_type": "execute_result"
    }
   ],
   "source": [
    "# Checking for any duplicates\n",
    "df.duplicated().sum()"
   ]
  },
  {
   "cell_type": "code",
   "execution_count": 8,
   "id": "337ec9c3-301f-4cbe-9156-434fb47cf693",
   "metadata": {},
   "outputs": [
    {
     "data": {
      "text/plain": [
       "Age                  0\n",
       "Sex                  0\n",
       "Marital              0\n",
       "Income               0\n",
       "Race                 0\n",
       "WaistCirc            0\n",
       "BMI                  0\n",
       "Albuminuria          0\n",
       "UrAlbCr              0\n",
       "UricAcid             0\n",
       "BloodGlucose         0\n",
       "HDL                  0\n",
       "Triglycerides        0\n",
       "MetabolicSyndrome    0\n",
       "dtype: int64"
      ]
     },
     "execution_count": 8,
     "metadata": {},
     "output_type": "execute_result"
    }
   ],
   "source": [
    "# Checking to make sure my data is clean\n",
    "df.isna().sum()"
   ]
  },
  {
   "cell_type": "code",
   "execution_count": 9,
   "id": "7e6783cf-98e0-45f3-8eb3-0500f65dbf57",
   "metadata": {},
   "outputs": [
    {
     "data": {
      "text/plain": [
       "0    1579\n",
       "1     822\n",
       "Name: MetabolicSyndrome, dtype: int64"
      ]
     },
     "execution_count": 9,
     "metadata": {},
     "output_type": "execute_result"
    }
   ],
   "source": [
    "df['MetabolicSyndrome']=df['MetabolicSyndrome'].replace({'No MetSyn': 0, 'MetSyn': 1})\n",
    "df['MetabolicSyndrome'].value_counts()"
   ]
  },
  {
   "cell_type": "markdown",
   "id": "afe8d5f2-d514-4cc6-a7ea-819fdec7b5d9",
   "metadata": {},
   "source": [
    "# <u>Preprocess Data for Machine Learning"
   ]
  },
  {
   "cell_type": "code",
   "execution_count": 10,
   "id": "7f9583f2-2114-4cc4-8fb0-26c9d60fdff0",
   "metadata": {},
   "outputs": [],
   "source": [
    "# Train Test Split\n",
    "X= df.drop(columns='MetabolicSyndrome')\n",
    "y=df['MetabolicSyndrome'].copy()\n",
    "\n",
    "X_train, X_test, y_train, y_test = train_test_split(X,y)"
   ]
  },
  {
   "cell_type": "code",
   "execution_count": 11,
   "id": "badf71a9-b99b-4d5b-85a0-a21eeb48ec3a",
   "metadata": {},
   "outputs": [
    {
     "data": {
      "text/html": [
       "<div>\n",
       "<style scoped>\n",
       "    .dataframe tbody tr th:only-of-type {\n",
       "        vertical-align: middle;\n",
       "    }\n",
       "\n",
       "    .dataframe tbody tr th {\n",
       "        vertical-align: top;\n",
       "    }\n",
       "\n",
       "    .dataframe thead th {\n",
       "        text-align: right;\n",
       "    }\n",
       "</style>\n",
       "<table border=\"1\" class=\"dataframe\">\n",
       "  <thead>\n",
       "    <tr style=\"text-align: right;\">\n",
       "      <th></th>\n",
       "      <th>Age</th>\n",
       "      <th>Sex</th>\n",
       "      <th>Marital</th>\n",
       "      <th>Income</th>\n",
       "      <th>Race</th>\n",
       "      <th>WaistCirc</th>\n",
       "      <th>BMI</th>\n",
       "      <th>Albuminuria</th>\n",
       "      <th>UrAlbCr</th>\n",
       "      <th>UricAcid</th>\n",
       "      <th>BloodGlucose</th>\n",
       "      <th>HDL</th>\n",
       "      <th>Triglycerides</th>\n",
       "    </tr>\n",
       "    <tr>\n",
       "      <th>seqn</th>\n",
       "      <th></th>\n",
       "      <th></th>\n",
       "      <th></th>\n",
       "      <th></th>\n",
       "      <th></th>\n",
       "      <th></th>\n",
       "      <th></th>\n",
       "      <th></th>\n",
       "      <th></th>\n",
       "      <th></th>\n",
       "      <th></th>\n",
       "      <th></th>\n",
       "      <th></th>\n",
       "    </tr>\n",
       "  </thead>\n",
       "  <tbody>\n",
       "    <tr>\n",
       "      <th>63211</th>\n",
       "      <td>46</td>\n",
       "      <td>Female</td>\n",
       "      <td>Married</td>\n",
       "      <td>8200.0</td>\n",
       "      <td>White</td>\n",
       "      <td>124.0</td>\n",
       "      <td>40.8</td>\n",
       "      <td>0</td>\n",
       "      <td>18.47</td>\n",
       "      <td>3.3</td>\n",
       "      <td>140</td>\n",
       "      <td>53</td>\n",
       "      <td>198</td>\n",
       "    </tr>\n",
       "    <tr>\n",
       "      <th>70548</th>\n",
       "      <td>34</td>\n",
       "      <td>Male</td>\n",
       "      <td>Separated</td>\n",
       "      <td>3500.0</td>\n",
       "      <td>MexAmerican</td>\n",
       "      <td>86.2</td>\n",
       "      <td>24.5</td>\n",
       "      <td>0</td>\n",
       "      <td>16.14</td>\n",
       "      <td>6.1</td>\n",
       "      <td>114</td>\n",
       "      <td>83</td>\n",
       "      <td>60</td>\n",
       "    </tr>\n",
       "    <tr>\n",
       "      <th>64722</th>\n",
       "      <td>33</td>\n",
       "      <td>Female</td>\n",
       "      <td>Married</td>\n",
       "      <td>3500.0</td>\n",
       "      <td>MexAmerican</td>\n",
       "      <td>75.0</td>\n",
       "      <td>25.0</td>\n",
       "      <td>0</td>\n",
       "      <td>11.54</td>\n",
       "      <td>3.4</td>\n",
       "      <td>97</td>\n",
       "      <td>44</td>\n",
       "      <td>60</td>\n",
       "    </tr>\n",
       "    <tr>\n",
       "      <th>69237</th>\n",
       "      <td>49</td>\n",
       "      <td>Female</td>\n",
       "      <td>Married</td>\n",
       "      <td>9000.0</td>\n",
       "      <td>Hispanic</td>\n",
       "      <td>95.7</td>\n",
       "      <td>33.3</td>\n",
       "      <td>0</td>\n",
       "      <td>3.81</td>\n",
       "      <td>2.7</td>\n",
       "      <td>89</td>\n",
       "      <td>51</td>\n",
       "      <td>139</td>\n",
       "    </tr>\n",
       "    <tr>\n",
       "      <th>65286</th>\n",
       "      <td>30</td>\n",
       "      <td>Male</td>\n",
       "      <td>Married</td>\n",
       "      <td>9000.0</td>\n",
       "      <td>Asian</td>\n",
       "      <td>75.7</td>\n",
       "      <td>21.9</td>\n",
       "      <td>0</td>\n",
       "      <td>7.76</td>\n",
       "      <td>7.1</td>\n",
       "      <td>81</td>\n",
       "      <td>58</td>\n",
       "      <td>394</td>\n",
       "    </tr>\n",
       "  </tbody>\n",
       "</table>\n",
       "</div>"
      ],
      "text/plain": [
       "       Age     Sex    Marital  Income         Race  WaistCirc   BMI  \\\n",
       "seqn                                                                  \n",
       "63211   46  Female    Married  8200.0        White      124.0  40.8   \n",
       "70548   34    Male  Separated  3500.0  MexAmerican       86.2  24.5   \n",
       "64722   33  Female    Married  3500.0  MexAmerican       75.0  25.0   \n",
       "69237   49  Female    Married  9000.0     Hispanic       95.7  33.3   \n",
       "65286   30    Male    Married  9000.0        Asian       75.7  21.9   \n",
       "\n",
       "       Albuminuria  UrAlbCr  UricAcid  BloodGlucose  HDL  Triglycerides  \n",
       "seqn                                                                     \n",
       "63211            0    18.47       3.3           140   53            198  \n",
       "70548            0    16.14       6.1           114   83             60  \n",
       "64722            0    11.54       3.4            97   44             60  \n",
       "69237            0     3.81       2.7            89   51            139  \n",
       "65286            0     7.76       7.1            81   58            394  "
      ]
     },
     "execution_count": 11,
     "metadata": {},
     "output_type": "execute_result"
    }
   ],
   "source": [
    "# Looking at X_train DF\n",
    "X_train.head()"
   ]
  },
  {
   "cell_type": "code",
   "execution_count": 12,
   "id": "e384cc92-5ea6-4087-b184-1a71ccd5b1b7",
   "metadata": {},
   "outputs": [],
   "source": [
    "ordcol = X_train[['Albuminuria']].columns\n",
    "catcol = X_train.select_dtypes('object').columns\n",
    "numcol = X_train.select_dtypes('number').drop(columns=ordcol).columns"
   ]
  },
  {
   "cell_type": "code",
   "execution_count": 13,
   "id": "0b06ee21-fe7c-4fba-b485-d686c7dc1186",
   "metadata": {},
   "outputs": [],
   "source": [
    "#Instantiate the transformers\n",
    "from sklearn.impute import KNNImputer\n",
    "scaler=StandardScaler()\n",
    "ohe = OneHotEncoder(handle_unknown='ignore', sparse_output=False)\n",
    "knnimpute= KNNImputer(n_neighbors=3)\n",
    "oheimpute = SimpleImputer(strategy='constant', fill_value='none')"
   ]
  },
  {
   "cell_type": "code",
   "execution_count": 14,
   "id": "3f2ac6e3-d13c-43d0-903d-c88e19779ee6",
   "metadata": {},
   "outputs": [],
   "source": [
    "#Create pipelines\n",
    "num_pipe= make_pipeline(knnimpute, scaler)\n",
    "cat_pipe= make_pipeline(oheimpute, ohe)"
   ]
  },
  {
   "cell_type": "code",
   "execution_count": 15,
   "id": "55792f76-5b86-46ef-9d13-92674de15f19",
   "metadata": {},
   "outputs": [],
   "source": [
    "num_tuple= (\"Numeric\", num_pipe, numcol)\n",
    "cat_tuple=(\"Catagorical\", cat_pipe, catcol)\n",
    "ord_tuple= (\"Ordinal\", scaler, ordcol)\n",
    "preprocessor = ColumnTransformer([num_tuple, cat_tuple, ord_tuple], remainder='passthrough')"
   ]
  },
  {
   "cell_type": "code",
   "execution_count": 16,
   "id": "f370779c-92c3-42e6-9dae-d026ec223a58",
   "metadata": {},
   "outputs": [],
   "source": [
    "preprocessor.fit(X_train)\n",
    "X_train_tf=preprocessor.transform(X_train)\n",
    "X_test_tf=preprocessor.transform(X_test)"
   ]
  },
  {
   "cell_type": "markdown",
   "id": "ec658e3e-2287-40c3-98e3-708f7956fbcf",
   "metadata": {},
   "source": [
    "## `Model 1`"
   ]
  },
  {
   "cell_type": "code",
   "execution_count": 17,
   "id": "33805291-ab1d-43c2-8999-e82675c9f2f7",
   "metadata": {},
   "outputs": [
    {
     "data": {
      "text/plain": [
       "24"
      ]
     },
     "execution_count": 17,
     "metadata": {},
     "output_type": "execute_result"
    }
   ],
   "source": [
    "# Save the number of features we have as our input shape\n",
    "input_shape = X_train_tf.shape[1]\n",
    "input_shape"
   ]
  },
  {
   "cell_type": "code",
   "execution_count": 18,
   "id": "93860138-d4a6-4243-aedc-96fd8119d05e",
   "metadata": {},
   "outputs": [
    {
     "name": "stdout",
     "output_type": "stream",
     "text": [
      "Model: \"sequential\"\n",
      "_________________________________________________________________\n",
      " Layer (type)                Output Shape              Param #   \n",
      "=================================================================\n",
      " dense (Dense)               (None, 20)                500       \n",
      "                                                                 \n",
      " dense_1 (Dense)             (None, 10)                210       \n",
      "                                                                 \n",
      " dense_2 (Dense)             (None, 1)                 11        \n",
      "                                                                 \n",
      "=================================================================\n",
      "Total params: 721\n",
      "Trainable params: 721\n",
      "Non-trainable params: 0\n",
      "_________________________________________________________________\n"
     ]
    }
   ],
   "source": [
    "# Step 1 Build Network Structure\n",
    "\n",
    "# Sequential model\n",
    "model = keras.Sequential()\n",
    "\n",
    "model.add(Dense(20, input_dim=input_shape, activation ='relu'))\n",
    "model.add(Dense(10, activation='relu'))\n",
    "model.add(Dense(1, activation = 'sigmoid'))\n",
    "\n",
    "#Step 2: compile\n",
    "model.compile(loss = 'bce', optimizer = 'adam'\n",
    "              ,metrics=['accuracy', metrics.Precision(), metrics.Recall()])\n",
    "model.summary()"
   ]
  },
  {
   "cell_type": "code",
   "execution_count": 19,
   "id": "8e78b338-1ae4-4c37-aa76-9b47b980fd5e",
   "metadata": {},
   "outputs": [],
   "source": [
    "# Use Early Stopping callback\n",
    "early_stop = EarlyStopping(monitor='val_accuracy', patience=3)"
   ]
  },
  {
   "cell_type": "code",
   "execution_count": 20,
   "id": "302ea8fe-7ccb-4a2f-8fe3-48310530b35a",
   "metadata": {},
   "outputs": [
    {
     "name": "stdout",
     "output_type": "stream",
     "text": [
      "Epoch 1/50\n",
      "45/45 [==============================] - 1s 14ms/step - loss: 0.6023 - accuracy: 0.6924 - precision: 0.5453 - recall: 0.5103 - val_loss: 0.5525 - val_accuracy: 0.7444 - val_precision: 0.7188 - val_recall: 0.5149\n",
      "Epoch 2/50\n",
      "45/45 [==============================] - 0s 3ms/step - loss: 0.5085 - accuracy: 0.7653 - precision: 0.6931 - recall: 0.5413 - val_loss: 0.4801 - val_accuracy: 0.7833 - val_precision: 0.7692 - val_recall: 0.5970\n",
      "Epoch 3/50\n",
      "45/45 [==============================] - 0s 3ms/step - loss: 0.4471 - accuracy: 0.7889 - precision: 0.7163 - recall: 0.6157 - val_loss: 0.4267 - val_accuracy: 0.8083 - val_precision: 0.7928 - val_recall: 0.6567\n",
      "Epoch 4/50\n",
      "45/45 [==============================] - 0s 3ms/step - loss: 0.4046 - accuracy: 0.8104 - precision: 0.7403 - recall: 0.6715 - val_loss: 0.3878 - val_accuracy: 0.8194 - val_precision: 0.7805 - val_recall: 0.7164\n",
      "Epoch 5/50\n",
      "45/45 [==============================] - 0s 3ms/step - loss: 0.3760 - accuracy: 0.8229 - precision: 0.7539 - recall: 0.7025 - val_loss: 0.3628 - val_accuracy: 0.8306 - val_precision: 0.7829 - val_recall: 0.7537\n",
      "Epoch 6/50\n",
      "45/45 [==============================] - 0s 3ms/step - loss: 0.3561 - accuracy: 0.8319 - precision: 0.7574 - recall: 0.7355 - val_loss: 0.3512 - val_accuracy: 0.8444 - val_precision: 0.8197 - val_recall: 0.7463\n",
      "Epoch 7/50\n",
      "45/45 [==============================] - 0s 3ms/step - loss: 0.3425 - accuracy: 0.8486 - precision: 0.8065 - recall: 0.7231 - val_loss: 0.3424 - val_accuracy: 0.8444 - val_precision: 0.8000 - val_recall: 0.7761\n",
      "Epoch 8/50\n",
      "45/45 [==============================] - 0s 3ms/step - loss: 0.3329 - accuracy: 0.8500 - precision: 0.7939 - recall: 0.7479 - val_loss: 0.3387 - val_accuracy: 0.8389 - val_precision: 0.8220 - val_recall: 0.7239\n",
      "Epoch 9/50\n",
      "45/45 [==============================] - 0s 3ms/step - loss: 0.3254 - accuracy: 0.8625 - precision: 0.8206 - recall: 0.7562 - val_loss: 0.3334 - val_accuracy: 0.8472 - val_precision: 0.8062 - val_recall: 0.7761\n",
      "Epoch 10/50\n",
      "45/45 [==============================] - 0s 3ms/step - loss: 0.3204 - accuracy: 0.8535 - precision: 0.7935 - recall: 0.7624 - val_loss: 0.3346 - val_accuracy: 0.8417 - val_precision: 0.8235 - val_recall: 0.7313\n",
      "Epoch 11/50\n",
      "45/45 [==============================] - 0s 3ms/step - loss: 0.3156 - accuracy: 0.8660 - precision: 0.8314 - recall: 0.7541 - val_loss: 0.3317 - val_accuracy: 0.8444 - val_precision: 0.8197 - val_recall: 0.7463\n",
      "Epoch 12/50\n",
      "45/45 [==============================] - 0s 3ms/step - loss: 0.3099 - accuracy: 0.8660 - precision: 0.8330 - recall: 0.7521 - val_loss: 0.3285 - val_accuracy: 0.8528 - val_precision: 0.8140 - val_recall: 0.7836\n",
      "Epoch 13/50\n",
      "45/45 [==============================] - 0s 3ms/step - loss: 0.3054 - accuracy: 0.8576 - precision: 0.8026 - recall: 0.7645 - val_loss: 0.3291 - val_accuracy: 0.8417 - val_precision: 0.8235 - val_recall: 0.7313\n",
      "Epoch 14/50\n",
      "45/45 [==============================] - 0s 3ms/step - loss: 0.3029 - accuracy: 0.8708 - precision: 0.8356 - recall: 0.7665 - val_loss: 0.3269 - val_accuracy: 0.8472 - val_precision: 0.8160 - val_recall: 0.7612\n",
      "Epoch 15/50\n",
      "45/45 [==============================] - 0s 3ms/step - loss: 0.2975 - accuracy: 0.8729 - precision: 0.8444 - recall: 0.7624 - val_loss: 0.3247 - val_accuracy: 0.8528 - val_precision: 0.8189 - val_recall: 0.7761\n"
     ]
    }
   ],
   "source": [
    "# Fitting the model\n",
    "history = model.fit(X_train_tf, y_train,\n",
    "                        validation_split=.2,\n",
    "                        epochs=50, callbacks = [early_stop])"
   ]
  },
  {
   "cell_type": "code",
   "execution_count": 21,
   "id": "58450bc0-3e98-4d30-a4f5-bd39a8eaa3d0",
   "metadata": {},
   "outputs": [
    {
     "data": {
      "text/html": [
       "<div>\n",
       "<style scoped>\n",
       "    .dataframe tbody tr th:only-of-type {\n",
       "        vertical-align: middle;\n",
       "    }\n",
       "\n",
       "    .dataframe tbody tr th {\n",
       "        vertical-align: top;\n",
       "    }\n",
       "\n",
       "    .dataframe thead th {\n",
       "        text-align: right;\n",
       "    }\n",
       "</style>\n",
       "<table border=\"1\" class=\"dataframe\">\n",
       "  <thead>\n",
       "    <tr style=\"text-align: right;\">\n",
       "      <th></th>\n",
       "      <th>loss</th>\n",
       "      <th>accuracy</th>\n",
       "      <th>precision</th>\n",
       "      <th>recall</th>\n",
       "      <th>val_loss</th>\n",
       "      <th>val_accuracy</th>\n",
       "      <th>val_precision</th>\n",
       "      <th>val_recall</th>\n",
       "    </tr>\n",
       "  </thead>\n",
       "  <tbody>\n",
       "    <tr>\n",
       "      <th>0</th>\n",
       "      <td>0.602250</td>\n",
       "      <td>0.692361</td>\n",
       "      <td>0.545254</td>\n",
       "      <td>0.510331</td>\n",
       "      <td>0.552507</td>\n",
       "      <td>0.744444</td>\n",
       "      <td>0.718750</td>\n",
       "      <td>0.514925</td>\n",
       "    </tr>\n",
       "    <tr>\n",
       "      <th>1</th>\n",
       "      <td>0.508457</td>\n",
       "      <td>0.765278</td>\n",
       "      <td>0.693122</td>\n",
       "      <td>0.541322</td>\n",
       "      <td>0.480078</td>\n",
       "      <td>0.783333</td>\n",
       "      <td>0.769231</td>\n",
       "      <td>0.597015</td>\n",
       "    </tr>\n",
       "    <tr>\n",
       "      <th>2</th>\n",
       "      <td>0.447140</td>\n",
       "      <td>0.788889</td>\n",
       "      <td>0.716346</td>\n",
       "      <td>0.615702</td>\n",
       "      <td>0.426667</td>\n",
       "      <td>0.808333</td>\n",
       "      <td>0.792793</td>\n",
       "      <td>0.656716</td>\n",
       "    </tr>\n",
       "    <tr>\n",
       "      <th>3</th>\n",
       "      <td>0.404605</td>\n",
       "      <td>0.810417</td>\n",
       "      <td>0.740319</td>\n",
       "      <td>0.671488</td>\n",
       "      <td>0.387800</td>\n",
       "      <td>0.819444</td>\n",
       "      <td>0.780488</td>\n",
       "      <td>0.716418</td>\n",
       "    </tr>\n",
       "    <tr>\n",
       "      <th>4</th>\n",
       "      <td>0.376002</td>\n",
       "      <td>0.822917</td>\n",
       "      <td>0.753880</td>\n",
       "      <td>0.702479</td>\n",
       "      <td>0.362823</td>\n",
       "      <td>0.830556</td>\n",
       "      <td>0.782946</td>\n",
       "      <td>0.753731</td>\n",
       "    </tr>\n",
       "    <tr>\n",
       "      <th>5</th>\n",
       "      <td>0.356059</td>\n",
       "      <td>0.831944</td>\n",
       "      <td>0.757447</td>\n",
       "      <td>0.735537</td>\n",
       "      <td>0.351158</td>\n",
       "      <td>0.844444</td>\n",
       "      <td>0.819672</td>\n",
       "      <td>0.746269</td>\n",
       "    </tr>\n",
       "    <tr>\n",
       "      <th>6</th>\n",
       "      <td>0.342502</td>\n",
       "      <td>0.848611</td>\n",
       "      <td>0.806452</td>\n",
       "      <td>0.723140</td>\n",
       "      <td>0.342382</td>\n",
       "      <td>0.844444</td>\n",
       "      <td>0.800000</td>\n",
       "      <td>0.776119</td>\n",
       "    </tr>\n",
       "    <tr>\n",
       "      <th>7</th>\n",
       "      <td>0.332869</td>\n",
       "      <td>0.850000</td>\n",
       "      <td>0.793860</td>\n",
       "      <td>0.747934</td>\n",
       "      <td>0.338749</td>\n",
       "      <td>0.838889</td>\n",
       "      <td>0.822034</td>\n",
       "      <td>0.723881</td>\n",
       "    </tr>\n",
       "    <tr>\n",
       "      <th>8</th>\n",
       "      <td>0.325393</td>\n",
       "      <td>0.862500</td>\n",
       "      <td>0.820628</td>\n",
       "      <td>0.756198</td>\n",
       "      <td>0.333357</td>\n",
       "      <td>0.847222</td>\n",
       "      <td>0.806202</td>\n",
       "      <td>0.776119</td>\n",
       "    </tr>\n",
       "    <tr>\n",
       "      <th>9</th>\n",
       "      <td>0.320373</td>\n",
       "      <td>0.853472</td>\n",
       "      <td>0.793548</td>\n",
       "      <td>0.762397</td>\n",
       "      <td>0.334639</td>\n",
       "      <td>0.841667</td>\n",
       "      <td>0.823529</td>\n",
       "      <td>0.731343</td>\n",
       "    </tr>\n",
       "    <tr>\n",
       "      <th>10</th>\n",
       "      <td>0.315647</td>\n",
       "      <td>0.865972</td>\n",
       "      <td>0.831435</td>\n",
       "      <td>0.754132</td>\n",
       "      <td>0.331737</td>\n",
       "      <td>0.844444</td>\n",
       "      <td>0.819672</td>\n",
       "      <td>0.746269</td>\n",
       "    </tr>\n",
       "    <tr>\n",
       "      <th>11</th>\n",
       "      <td>0.309879</td>\n",
       "      <td>0.865972</td>\n",
       "      <td>0.832952</td>\n",
       "      <td>0.752066</td>\n",
       "      <td>0.328514</td>\n",
       "      <td>0.852778</td>\n",
       "      <td>0.813953</td>\n",
       "      <td>0.783582</td>\n",
       "    </tr>\n",
       "    <tr>\n",
       "      <th>12</th>\n",
       "      <td>0.305379</td>\n",
       "      <td>0.857639</td>\n",
       "      <td>0.802603</td>\n",
       "      <td>0.764463</td>\n",
       "      <td>0.329081</td>\n",
       "      <td>0.841667</td>\n",
       "      <td>0.823529</td>\n",
       "      <td>0.731343</td>\n",
       "    </tr>\n",
       "    <tr>\n",
       "      <th>13</th>\n",
       "      <td>0.302921</td>\n",
       "      <td>0.870833</td>\n",
       "      <td>0.835586</td>\n",
       "      <td>0.766529</td>\n",
       "      <td>0.326872</td>\n",
       "      <td>0.847222</td>\n",
       "      <td>0.816000</td>\n",
       "      <td>0.761194</td>\n",
       "    </tr>\n",
       "    <tr>\n",
       "      <th>14</th>\n",
       "      <td>0.297543</td>\n",
       "      <td>0.872917</td>\n",
       "      <td>0.844394</td>\n",
       "      <td>0.762397</td>\n",
       "      <td>0.324694</td>\n",
       "      <td>0.852778</td>\n",
       "      <td>0.818898</td>\n",
       "      <td>0.776119</td>\n",
       "    </tr>\n",
       "  </tbody>\n",
       "</table>\n",
       "</div>"
      ],
      "text/plain": [
       "        loss  accuracy  precision    recall  val_loss  val_accuracy  \\\n",
       "0   0.602250  0.692361   0.545254  0.510331  0.552507      0.744444   \n",
       "1   0.508457  0.765278   0.693122  0.541322  0.480078      0.783333   \n",
       "2   0.447140  0.788889   0.716346  0.615702  0.426667      0.808333   \n",
       "3   0.404605  0.810417   0.740319  0.671488  0.387800      0.819444   \n",
       "4   0.376002  0.822917   0.753880  0.702479  0.362823      0.830556   \n",
       "5   0.356059  0.831944   0.757447  0.735537  0.351158      0.844444   \n",
       "6   0.342502  0.848611   0.806452  0.723140  0.342382      0.844444   \n",
       "7   0.332869  0.850000   0.793860  0.747934  0.338749      0.838889   \n",
       "8   0.325393  0.862500   0.820628  0.756198  0.333357      0.847222   \n",
       "9   0.320373  0.853472   0.793548  0.762397  0.334639      0.841667   \n",
       "10  0.315647  0.865972   0.831435  0.754132  0.331737      0.844444   \n",
       "11  0.309879  0.865972   0.832952  0.752066  0.328514      0.852778   \n",
       "12  0.305379  0.857639   0.802603  0.764463  0.329081      0.841667   \n",
       "13  0.302921  0.870833   0.835586  0.766529  0.326872      0.847222   \n",
       "14  0.297543  0.872917   0.844394  0.762397  0.324694      0.852778   \n",
       "\n",
       "    val_precision  val_recall  \n",
       "0        0.718750    0.514925  \n",
       "1        0.769231    0.597015  \n",
       "2        0.792793    0.656716  \n",
       "3        0.780488    0.716418  \n",
       "4        0.782946    0.753731  \n",
       "5        0.819672    0.746269  \n",
       "6        0.800000    0.776119  \n",
       "7        0.822034    0.723881  \n",
       "8        0.806202    0.776119  \n",
       "9        0.823529    0.731343  \n",
       "10       0.819672    0.746269  \n",
       "11       0.813953    0.783582  \n",
       "12       0.823529    0.731343  \n",
       "13       0.816000    0.761194  \n",
       "14       0.818898    0.776119  "
      ]
     },
     "execution_count": 21,
     "metadata": {},
     "output_type": "execute_result"
    }
   ],
   "source": [
    "# Convert the history to a dataframe for readability\n",
    "history_df = pd.DataFrame(history.history)\n",
    "history_df"
   ]
  },
  {
   "cell_type": "code",
   "execution_count": 23,
   "id": "65f2f9b7-83cd-4c3c-a150-15f298f7a14a",
   "metadata": {},
   "outputs": [
    {
     "data": {
      "image/png": "[encoded data removed]",
      "text/plain": [
       "<Figure size 600x1200 with 4 Axes>"
      ]
     },
     "metadata": {},
     "output_type": "display_data"
    }
   ],
   "source": [
    "# Apply the custom function plot_history() to see how your model is doing\n",
    "plot_history(history);"
   ]
  },
  {
   "cell_type": "code",
   "execution_count": 24,
   "id": "914f8254-0a78-42f3-a350-42ce71ae05bd",
   "metadata": {},
   "outputs": [
    {
     "name": "stdout",
     "output_type": "stream",
     "text": [
      "19/19 [==============================] - 0s 927us/step\n"
     ]
    },
    {
     "data": {
      "text/plain": [
       "array([[0.32184473],\n",
       "       [0.83181506],\n",
       "       [0.2540363 ],\n",
       "       [0.29308462],\n",
       "       [0.9983453 ]], dtype=float32)"
      ]
     },
     "execution_count": 24,
     "metadata": {},
     "output_type": "execute_result"
    }
   ],
   "source": [
    "# make predictions\n",
    "y_pred_test= model.predict(X_test_tf)\n",
    "y_pred_test[:5]"
   ]
  },
  {
   "cell_type": "code",
   "execution_count": 25,
   "id": "07f12aca-149e-4d34-bd3d-3939a59c8a26",
   "metadata": {},
   "outputs": [
    {
     "data": {
      "text/plain": [
       "array([[0.],\n",
       "       [1.],\n",
       "       [0.],\n",
       "       [0.],\n",
       "       [1.]], dtype=float32)"
      ]
     },
     "execution_count": 25,
     "metadata": {},
     "output_type": "execute_result"
    }
   ],
   "source": [
    "#evaluate with sklearn metrics\n",
    "y_pred_test = np.round(y_pred_test)\n",
    "y_pred_test[:5]"
   ]
  },
  {
   "cell_type": "code",
   "execution_count": 26,
   "id": "1b3d5992-248f-4dc1-84b8-8b34e6029a04",
   "metadata": {},
   "outputs": [
    {
     "name": "stdout",
     "output_type": "stream",
     "text": [
      "              precision    recall  f1-score   support\n",
      "\n",
      "           0       0.86      0.89      0.87       397\n",
      "           1       0.77      0.72      0.74       204\n",
      "\n",
      "    accuracy                           0.83       601\n",
      "   macro avg       0.81      0.80      0.81       601\n",
      "weighted avg       0.83      0.83      0.83       601\n",
      "\n"
     ]
    },
    {
     "data": {
      "image/png": "[encoded data removed]",
      "text/plain": [
       "<Figure size 640x480 with 2 Axes>"
      ]
     },
     "metadata": {},
     "output_type": "display_data"
    }
   ],
   "source": [
    "print(classification_report(y_test, y_pred_test))\n",
    "ConfusionMatrixDisplay.from_predictions(y_test, y_pred_test, cmap='Blues', normalize=\"true\");"
   ]
  },
  {
   "cell_type": "markdown",
   "id": "3c8b3da5-09b5-468b-a626-bc59894d950f",
   "metadata": {},
   "source": [
    "## `Model 2: Tune Parameters with Keras Tuner`"
   ]
  },
  {
   "cell_type": "code",
   "execution_count": 29,
   "id": "769b0832-3cd8-41c8-9871-81950b404e32",
   "metadata": {},
   "outputs": [],
   "source": [
    "# Additional Imports\n",
    "from keras_tuner import HyperParameters as hp\n",
    "import keras_tuner as kt\n",
    "import os\n",
    "folder='KerasTuner/'\n",
    "os.makedirs(folder, exist_ok=True)"
   ]
  },
  {
   "cell_type": "code",
   "execution_count": 30,
   "id": "a0fbf801-809d-4d92-9ddc-b1a31d174b87",
   "metadata": {},
   "outputs": [],
   "source": [
    "# Step 1 Build Network Structure\n",
    "\n",
    "# Sequential model\n",
    "def build_model(hp):\n",
    "    units = hp.Int(\"units\", min_value=32, max_value=512, step=32)\n",
    "    opitimizers = hp.Choice('optimizer', ['rmsprop','nadam','adam'])\n",
    "    dropout= hp.Boolean('dropout')   \n",
    "   \n",
    "    model2 = Sequential()\n",
    "    model2.add(Dense(units=units, activation ='relu'))\n",
    "  \n",
    "    if dropout:\n",
    "           model2.add(Dropout(.2))\n",
    "                  \n",
    "    model2.add(Dense(1, activation = 'sigmoid'))\n",
    "\n",
    "#Step 2: compile\n",
    "    model2.compile(loss = 'bce', optimizer = opitimizers,\n",
    "                      metrics=['accuracy'])\n",
    "    \n",
    "    return model2"
   ]
  },
  {
   "cell_type": "code",
   "execution_count": 31,
   "id": "8186a618-27f4-439b-ab1a-576942c44727",
   "metadata": {},
   "outputs": [],
   "source": [
    "# define tuner object\n",
    "tuner= kt.Hyperband(build_model, objective='val_accuracy',\n",
    "                    max_epochs= 8,\n",
    "                    directory=folder,\n",
    "                    overwrite=True,\n",
    "                    seed=42,\n",
    "                    project_name='MetSNeural Network')"
   ]
  },
  {
   "cell_type": "code",
   "execution_count": 32,
   "id": "1159d84b-272d-4ce2-86af-89b7578caefc",
   "metadata": {},
   "outputs": [
    {
     "name": "stdout",
     "output_type": "stream",
     "text": [
      "Trial 10 Complete [00h 00m 03s]\n",
      "val_accuracy: 0.8319467306137085\n",
      "\n",
      "Best val_accuracy So Far: 0.8386023044586182\n",
      "Total elapsed time: 00h 00m 25s\n",
      "INFO:tensorflow:Oracle triggered exit\n"
     ]
    }
   ],
   "source": [
    "epochs=50\n",
    "tuner.search(X_train_tf, y_train, epochs=epochs, \n",
    "             validation_data= (X_test_tf, y_test), callbacks=[early_stop])"
   ]
  },
  {
   "cell_type": "code",
   "execution_count": 33,
   "id": "485a9cb7-1d4c-4e59-b0ed-3622ccb879ef",
   "metadata": {},
   "outputs": [
    {
     "data": {
      "text/plain": [
       "{'units': 288,\n",
       " 'optimizer': 'rmsprop',\n",
       " 'dropout': False,\n",
       " 'tuner/epochs': 8,\n",
       " 'tuner/initial_epoch': 3,\n",
       " 'tuner/bracket': 1,\n",
       " 'tuner/round': 1,\n",
       " 'tuner/trial_id': '0002'}"
      ]
     },
     "execution_count": 33,
     "metadata": {},
     "output_type": "execute_result"
    }
   ],
   "source": [
    "best_hps = tuner.get_best_hyperparameters()[0]\n",
    "best_hps.values"
   ]
  },
  {
   "cell_type": "code",
   "execution_count": 34,
   "id": "ea3f7ef9-8ee2-4f03-aae2-e2ec6442f629",
   "metadata": {},
   "outputs": [],
   "source": [
    "# Use Early Stopping callback\n",
    "early_stop = EarlyStopping(monitor='val_accuracy', patience=3)"
   ]
  },
  {
   "cell_type": "code",
   "execution_count": 35,
   "id": "96fa16db-bda8-4e5a-a05d-3040a58da8a9",
   "metadata": {},
   "outputs": [
    {
     "name": "stdout",
     "output_type": "stream",
     "text": [
      "Epoch 1/50\n",
      "45/45 [==============================] - 1s 11ms/step - loss: 0.4490 - accuracy: 0.8014 - val_loss: 0.3803 - val_accuracy: 0.8194\n",
      "Epoch 2/50\n",
      "45/45 [==============================] - 0s 3ms/step - loss: 0.3607 - accuracy: 0.8444 - val_loss: 0.3506 - val_accuracy: 0.8333\n",
      "Epoch 3/50\n",
      "45/45 [==============================] - 0s 2ms/step - loss: 0.3371 - accuracy: 0.8521 - val_loss: 0.3404 - val_accuracy: 0.8528\n",
      "Epoch 4/50\n",
      "45/45 [==============================] - 0s 3ms/step - loss: 0.3239 - accuracy: 0.8597 - val_loss: 0.3365 - val_accuracy: 0.8306\n",
      "Epoch 5/50\n",
      "45/45 [==============================] - 0s 3ms/step - loss: 0.3134 - accuracy: 0.8674 - val_loss: 0.3277 - val_accuracy: 0.8556\n",
      "Epoch 6/50\n",
      "45/45 [==============================] - 0s 3ms/step - loss: 0.3045 - accuracy: 0.8674 - val_loss: 0.3355 - val_accuracy: 0.8278\n",
      "Epoch 7/50\n",
      "45/45 [==============================] - 0s 3ms/step - loss: 0.2974 - accuracy: 0.8687 - val_loss: 0.3239 - val_accuracy: 0.8444\n",
      "Epoch 8/50\n",
      "45/45 [==============================] - 0s 3ms/step - loss: 0.2901 - accuracy: 0.8729 - val_loss: 0.3211 - val_accuracy: 0.8472\n"
     ]
    }
   ],
   "source": [
    "#build model with best hp\n",
    "model2 = build_model(best_hps)\n",
    "#fit model\n",
    "history2 = model2.fit(X_train_tf,y_train, validation_split=.2,\n",
    "                        epochs=50, callbacks=[early_stop])"
   ]
  },
  {
   "cell_type": "code",
   "execution_count": 36,
   "id": "4eb6e0c2-859e-4967-94fc-0bf79fd895af",
   "metadata": {},
   "outputs": [
    {
     "data": {
      "image/png": "[encoded data removed]",
      "text/plain": [
       "<Figure size 600x1200 with 2 Axes>"
      ]
     },
     "metadata": {},
     "output_type": "display_data"
    }
   ],
   "source": [
    "# Apply the custom function plot_history() to see how your model is doing\n",
    "plot_history(history2);"
   ]
  },
  {
   "cell_type": "code",
   "execution_count": 37,
   "id": "fb9be6b8-5af9-4ba8-bf8c-b7d2df5a6d1f",
   "metadata": {},
   "outputs": [
    {
     "name": "stdout",
     "output_type": "stream",
     "text": [
      "19/19 [==============================] - 0s 1ms/step - loss: 0.3520 - accuracy: 0.8303\n"
     ]
    },
    {
     "data": {
      "text/plain": [
       "{'loss': 0.3519628345966339, 'accuracy': 0.8302828669548035}"
      ]
     },
     "execution_count": 37,
     "metadata": {},
     "output_type": "execute_result"
    }
   ],
   "source": [
    "result=model2.evaluate(X_test_tf, y_test, return_dict=True)\n",
    "result"
   ]
  },
  {
   "cell_type": "code",
   "execution_count": 38,
   "id": "f120b31f-efea-4c22-9f49-baab18fee83b",
   "metadata": {},
   "outputs": [
    {
     "name": "stdout",
     "output_type": "stream",
     "text": [
      "19/19 [==============================] - 0s 1ms/step\n"
     ]
    },
    {
     "data": {
      "text/plain": [
       "array([[0.20618798],\n",
       "       [0.7715026 ],\n",
       "       [0.37736663],\n",
       "       [0.38812235],\n",
       "       [0.9946558 ]], dtype=float32)"
      ]
     },
     "execution_count": 38,
     "metadata": {},
     "output_type": "execute_result"
    }
   ],
   "source": [
    "# make predictions\n",
    "y_pred_test2= model2.predict(X_test_tf)\n",
    "y_pred_test2[:5]"
   ]
  },
  {
   "cell_type": "code",
   "execution_count": 40,
   "id": "ec9bb976-29cd-4107-958f-abe1ff649f31",
   "metadata": {},
   "outputs": [
    {
     "data": {
      "image/png": "[encoded data removed]",
      "text/plain": [
       "<Figure size 640x480 with 2 Axes>"
      ]
     },
     "metadata": {},
     "output_type": "display_data"
    }
   ],
   "source": [
    "\n",
    "ConfusionMatrixDisplay.from_predictions(y_test, y_pred_test, cmap='Reds', normalize=\"true\");"
   ]
  },
  {
   "cell_type": "code",
   "execution_count": 47,
   "id": "35bddfb7-8af0-44df-9de3-661cdf24c13c",
   "metadata": {},
   "outputs": [],
   "source": [
    "# print(classification_report(y_test, y_pred_test2))"
   ]
  },
  {
   "cell_type": "markdown",
   "id": "c9a61a9f-27a1-4cf2-a850-d1a3f8b8d731",
   "metadata": {},
   "source": [
    "<!-- ## `Evaluate Model`\n",
    "- The model 1 has an accuracy score of 0.82\n",
    "- The model 2 using keras tuner has an accuracy score of 0.83\n",
    "- Of the models the default model performs the best\n",
    "    - Both models show a point where the models become overfit\n",
    "        - Perhaps using a lower patience during early stopping would prevent this. -->"
   ]
  },
  {
   "cell_type": "markdown",
   "id": "f2279f7c-7c86-4c96-8d9f-d8832b2f6643",
   "metadata": {},
   "source": [
    "## `Model 3`"
   ]
  },
  {
   "cell_type": "code",
   "execution_count": 48,
   "id": "f423154f-f41f-4140-b3bc-ec198cbfa0a7",
   "metadata": {},
   "outputs": [],
   "source": [
    "# Build binary classification model within function\n",
    "def build_model3():\n",
    "    # Instantiate Model\n",
    "    model3 = Sequential()\n",
    "\n",
    "    # First hidden layer\n",
    "    model3.add(Dense(24, input_dim =in_shape,\n",
    "                          activation = 'relu'))\n",
    "    model3.add(Dropout(.12))\n",
    "\n",
    "    model3.add(Dense(1, activation = 'sigmoid'))\n",
    "\n",
    "    # Compile Model\n",
    "    model3.compile(loss = 'bce', optimizer = 'adam',\n",
    "             metrics=['accuracy', metrics.Precision(), metrics.Recall()])\n",
    "    return model3"
   ]
  },
  {
   "cell_type": "code",
   "execution_count": 49,
   "id": "f4842f1f-7aab-404f-9732-7ef2d2141ab2",
   "metadata": {},
   "outputs": [
    {
     "ename": "NameError",
     "evalue": "name 'in_shape' is not defined",
     "output_type": "error",
     "traceback": [
      "\u001b[1;31m---------------------------------------------------------------------------\u001b[0m",
      "\u001b[1;31mNameError\u001b[0m                                 Traceback (most recent call last)",
      "Cell \u001b[1;32mIn[49], line 2\u001b[0m\n\u001b[0;32m      1\u001b[0m \u001b[38;5;66;03m# Call our build function to build model\u001b[39;00m\n\u001b[1;32m----> 2\u001b[0m n_model3 \u001b[38;5;241m=\u001b[39m \u001b[43mbuild_model3\u001b[49m\u001b[43m(\u001b[49m\u001b[43m)\u001b[49m\n\u001b[0;32m      4\u001b[0m \u001b[38;5;66;03m# Get model summary\u001b[39;00m\n\u001b[0;32m      5\u001b[0m n_model3\u001b[38;5;241m.\u001b[39msummary()\n",
      "Cell \u001b[1;32mIn[48], line 7\u001b[0m, in \u001b[0;36mbuild_model3\u001b[1;34m()\u001b[0m\n\u001b[0;32m      4\u001b[0m model3 \u001b[38;5;241m=\u001b[39m Sequential()\n\u001b[0;32m      6\u001b[0m \u001b[38;5;66;03m# First hidden layer\u001b[39;00m\n\u001b[1;32m----> 7\u001b[0m model3\u001b[38;5;241m.\u001b[39madd(Dense(\u001b[38;5;241m24\u001b[39m, input_dim \u001b[38;5;241m=\u001b[39m\u001b[43min_shape\u001b[49m,\n\u001b[0;32m      8\u001b[0m                       activation \u001b[38;5;241m=\u001b[39m \u001b[38;5;124m'\u001b[39m\u001b[38;5;124mrelu\u001b[39m\u001b[38;5;124m'\u001b[39m))\n\u001b[0;32m      9\u001b[0m model3\u001b[38;5;241m.\u001b[39madd(Dropout(\u001b[38;5;241m.12\u001b[39m))\n\u001b[0;32m     11\u001b[0m model3\u001b[38;5;241m.\u001b[39madd(Dense(\u001b[38;5;241m1\u001b[39m, activation \u001b[38;5;241m=\u001b[39m \u001b[38;5;124m'\u001b[39m\u001b[38;5;124msigmoid\u001b[39m\u001b[38;5;124m'\u001b[39m))\n",
      "\u001b[1;31mNameError\u001b[0m: name 'in_shape' is not defined"
     ]
    }
   ],
   "source": [
    "# Call our build function to build model\n",
    "n_model3 = build_model3()\n",
    "\n",
    "# Get model summary\n",
    "n_model3.summary()"
   ]
  },
  {
   "cell_type": "code",
   "execution_count": null,
   "id": "12572898-7292-498f-9d5a-4e2826fc759d",
   "metadata": {},
   "outputs": [],
   "source": [
    "early_stop = EarlyStopping(monitor='val_accuracy', patience=5)"
   ]
  },
  {
   "cell_type": "code",
   "execution_count": null,
   "id": "3704a492-0dfd-49e0-ac8e-c68962d7b092",
   "metadata": {},
   "outputs": [],
   "source": [
    "history2 = n_model3.fit(X_train_nn, y_train,\n",
    "                        validation_data = (X_test_nn, y_test),\n",
    "                         validation_split = .2, epochs = 50, verbose=0,\n",
    "                       callbacks = [early_stop])"
   ]
  },
  {
   "cell_type": "code",
   "execution_count": null,
   "id": "f7600599-db26-43a1-955f-68fb0a1bf0f6",
   "metadata": {},
   "outputs": [],
   "source": [
    "# plot learning history\n",
    "plot_history(history3);"
   ]
  },
  {
   "cell_type": "code",
   "execution_count": null,
   "id": "0afa98bf-d565-4750-affd-efd9c0212d6e",
   "metadata": {},
   "outputs": [],
   "source": [
    "# Get predictions\n",
    "train_pred_proba = n_model3.predict(X_train_nn)\n",
    "test_pred_proba = n_model3.predict(X_test_nn)\n",
    "\n",
    "\n",
    "# round predictions to integers instead of floats using np.rint()\n",
    "train_preds = np.rint(train_pred_proba)\n",
    "test_preds = np.rint(test_pred_proba)\n",
    "\n",
    "# the following code should show whole number predictions, 1.0 or 0.0\n",
    "print(test_preds[:5])\n",
    "print(train_preds[:5])"
   ]
  },
  {
   "cell_type": "code",
   "execution_count": null,
   "id": "d9661cb3-a109-4bcb-b643-529b2550ca34",
   "metadata": {},
   "outputs": [],
   "source": [
    "# Define labels for the confusion matrix\n",
    "labels = ['No Metabolic Syndrome', 'Metabolic Syndrome']\n",
    "\n",
    "train_scores = eval_classification(y_train, train_preds, labels=labels, name='Model 3 Train')\n",
    "test_scores = eval_classification(y_test, test_preds, labels=labels, name='Model 3 Test')\n",
    "\n",
    "scores = pd.concat([scores, pd.concat([train_scores, test_scores])])\n",
    "scores"
   ]
  },
  {
   "cell_type": "code",
   "execution_count": null,
   "id": "7c70c1f7-c1da-4b30-9fa3-20d9e334e2f4",
   "metadata": {},
   "outputs": [],
   "source": [
    "# # Make predictions and evaluate your model\n",
    "# train_preds = model3.predict(X_train)\n",
    "# test_preds = model3.predict(X_test)\n",
    "\n",
    "# train_scores = eval_regression(y_train, train_preds, name='model3_reg_train')\n",
    "# test_scores = eval_regression(y_test, test_preds, name='model3_reg_test')\n",
    "\n",
    "# reg_scores = pd.concat([train_scores, test_scores])\n",
    "# reg_scores"
   ]
  },
  {
   "cell_type": "markdown",
   "id": "4c90eaab-8292-46df-b0e9-cb0a0dfe689b",
   "metadata": {},
   "source": [
    "<!-- # Including a dropout layer did not improve the model. Let's find out if we are using the best optimizer. -->"
   ]
  }
 ],
 "metadata": {
  "kernelspec": {
   "display_name": "Python (dojo-env)",
   "language": "python",
   "name": "dojo-env"
  },
  "language_info": {
   "codemirror_mode": {
    "name": "ipython",
    "version": 3
   },
   "file_extension": ".py",
   "mimetype": "text/x-python",
   "name": "python",
   "nbconvert_exporter": "python",
   "pygments_lexer": "ipython3",
   "version": "3.10.10"
  },
  "widgets": {
   "application/vnd.jupyter.widget-state+json": {
    "state": {},
    "version_major": 2,
    "version_minor": 0
   }
  }
 },
 "nbformat": 4,
 "nbformat_minor": 5
}
