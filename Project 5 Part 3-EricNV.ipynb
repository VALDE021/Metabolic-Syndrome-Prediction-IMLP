{
 "cells": [
  {
   "cell_type": "markdown",
   "id": "99d6d585-98a4-43c0-b43d-1298932608c3",
   "metadata": {},
   "source": [
    "# <u><center> Project 5: Part 3 Core\n",
    "* Authored By: Eric N. Valdez\n",
    "* Date: 03-17-2024"
   ]
  },
  {
   "cell_type": "markdown",
   "id": "61827948-640f-422e-b00d-4df3fe8192a8",
   "metadata": {},
   "source": [
    "# <u>Imports:"
   ]
  },
  {
   "cell_type": "code",
   "execution_count": null,
   "id": "35dc831c-3f2b-45ac-8f6f-d7127a8a1576",
   "metadata": {},
   "outputs": [],
   "source": []
  },
  {
   "cell_type": "markdown",
   "id": "99be5a0a-dc8f-4a75-9b8e-24970907a9a7",
   "metadata": {},
   "source": [
    "# <u>Custome Functions:"
   ]
  },
  {
   "cell_type": "code",
   "execution_count": null,
   "id": "de33a6c8-121f-41a9-9c3a-24167203bcc8",
   "metadata": {},
   "outputs": [],
   "source": []
  },
  {
   "cell_type": "markdown",
   "id": "1a6629a9-b9ed-4ab6-b8eb-1e7cab654313",
   "metadata": {},
   "source": [
    "# <u>Task:\n",
    "* Build a small neural Network (with only 1 hidden layer)\n",
    "   * Ensure the Final layer is appropriate for your task (number of units and activation function)\n",
    "   * Fit it for 50 epochs\n",
    "       *  Use Early Stopping callbacks\n",
    "           * Start with patience = 5 monitoring val_accuracy.\n",
    "       * Use a validation_split of 2\n",
    "       * Save the history and visualize it.  \n",
    "    * Evaluate the model using sklearn evaluation metrics:\n",
    "        * Confusion Matrix\n",
    "        * Classification Report\n",
    "        * You are Welcome to use the custom  evaluation functions  "
   ]
  },
  {
   "cell_type": "markdown",
   "id": "a661008f-d0e0-41e1-8fe7-436d9f6881ec",
   "metadata": {},
   "source": [
    "* Tune at least 3 parameters with Keras tuner:\n",
    "    * Include a dropout layer and adjust the dropout rate\n",
    "    * Number of units\n",
    "    * Optimizer\n",
    "    * Learning rates \n",
    "* Evaluate your best model on unseen test data"
   ]
  },
  {
   "cell_type": "code",
   "execution_count": null,
   "id": "b05e2919-4c25-4b80-989a-e548075dd910",
   "metadata": {},
   "outputs": [],
   "source": []
  }
 ],
 "metadata": {
  "kernelspec": {
   "display_name": "Python (dojo-env)",
   "language": "python",
   "name": "dojo-env"
  },
  "language_info": {
   "codemirror_mode": {
    "name": "ipython",
    "version": 3
   },
   "file_extension": ".py",
   "mimetype": "text/x-python",
   "name": "python",
   "nbconvert_exporter": "python",
   "pygments_lexer": "ipython3",
   "version": "3.10.10"
  },
  "widgets": {
   "application/vnd.jupyter.widget-state+json": {
    "state": {},
    "version_major": 2,
    "version_minor": 0
   }
  }
 },
 "nbformat": 4,
 "nbformat_minor": 5
}
