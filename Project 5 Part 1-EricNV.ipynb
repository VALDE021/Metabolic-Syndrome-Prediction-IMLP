{
 "cells": [
  {
   "cell_type": "markdown",
   "id": "42553836-c4c3-4801-aa6b-387bc9bdda7a",
   "metadata": {},
   "source": [
    "# <u>`Project 5 Part 1 Core`\n",
    "* Authored By: Eric N. Valdez\n",
    "* Date: 2/29/24"
   ]
  },
  {
   "cell_type": "markdown",
   "id": "a3e2307a-59e1-4f98-b697-88feae87096c",
   "metadata": {},
   "source": [
    "# <u><center> [Metabolic Syndrome Prediction](https://data.world/informatics-edu/metabolic-syndrome-prediction)\n",
    "* The dataset for analysis came from the [NHANES](https://www.cdc.gov/nchs/nhanes/index.htm) initiative where the following variables were combined from multiple tables with SQL: abnormal waist circumference, triglycerides above 150, HDL cholesterol below 50 in women or 40 in men, history of hypertension and mildly elevated fasting blood sugar (100-125). Numerous other variables were added, such as uric acid, race, income, etc. that might contribute to the model but we will not sure, until we test the model.\n",
    "* [Data Dictionary](https://docs.google.com/document/d/11D8SRng4m7w3ONQkX0bm6_3etsyjD7CDJCNZBLtprzk) as listed below"
   ]
  },
  {
   "cell_type": "raw",
   "id": "b3765885-82b9-4577-8da0-16dd7d00b5f1",
   "metadata": {},
   "source": [
    "Feature\t                                               Description\n",
    "\n",
    "seqn\t                                         Respondent sequence number\n",
    "Age\t                                                   Age in Years\n",
    "Sex\t                                                  Male or Female\n",
    "Marital\t                                              Marital status\n",
    "Income\t                                              Income in Dollars\n",
    "Race\t                                               Racial Group\n",
    "WaistCirc\t                                       Waist Circumference (cm)\n",
    "BMI\t                                               Body Mass Index (kg/m**2)\n",
    "Albuminuria\t                                        Albumin in Urine (mg/L))\n",
    "UrAlbCr\t                                Ratio of Albumin (mcg/L) to Creatinine (mg/L) in Urine\n",
    "UricAcid\t                                       Uric Acid in Blood (mg/dl)\n",
    "BloodGlucose\t                                   Glucose in Blood (mg/dL)\n",
    "HDL\t                                            High Density Lipoprotein (mg/dl)\n",
    "Triglycerides\t                                  Triglycerides in Blood (mg/dL)\n",
    "MetabolicSyndrome\t               Presence or not of at least three of the five metabolic risk factorsc risk factors"
   ]
  },
  {
   "cell_type": "markdown",
   "id": "89d75d26-d8b5-4e2d-97cb-90c11b946638",
   "metadata": {},
   "source": [
    "# <u>Assignment:"
   ]
  },
  {
   "cell_type": "markdown",
   "id": "2cce0eb7-c8b0-484e-88eb-05b5765743ea",
   "metadata": {},
   "source": [
    "#### When choosing your dataset, consider the following:\n",
    "* What is the target? (You are required to complete a classification task for this project)\n",
    "* What does one row represent? (A person? A business? An event? A product?)\n",
    "* How many features does the data have?\n",
    "* How many rows are in the dataset?\n",
    "* What opportunities exist for dimensionality reduction or feature selection with this dataset?\n",
    "* What, if any, challenges do you foresee in cleaning, exploring, or modeling this dataset?"
   ]
  },
  {
   "cell_type": "markdown",
   "id": "a37c37bd-752e-495c-a3b8-24ad722ca8b9",
   "metadata": {},
   "source": [
    "# <u>For this task:\n",
    "* [Metabolic Syndrome Prediction - dataset by informatics-edu](https://data.world/informatics-edu/metabolic-syndrome-prediction)"
   ]
  },
  {
   "cell_type": "markdown",
   "id": "5dc272e5-48b1-4505-be5d-cc602c77351b",
   "metadata": {},
   "source": [
    "# <u>Imports:"
   ]
  },
  {
   "cell_type": "code",
   "execution_count": 1,
   "id": "92b4bac0-30f5-4304-93b4-a1446f2ed0b6",
   "metadata": {},
   "outputs": [],
   "source": [
    "import numpy as np\n",
    "import matplotlib.pyplot as plt\n",
    "import pandas as pd\n",
    "import seaborn as sns\n",
    "import missingno\n",
    "\n",
    "from sklearn.preprocessing import StandardScaler, OneHotEncoder\n",
    "from sklearn.model_selection import train_test_split\n",
    "from sklearn.metrics import (classification_report, ConfusionMatrixDisplay, PrecisionRecallDisplay, \n",
    "                              f1_score, accuracy_score, precision_score, recall_score, classification_report)\n",
    "from sklearn.compose import ColumnTransformer, make_column_selector,make_column_transformer\n",
    "from sklearn.pipeline import Pipeline, make_pipeline\n",
    "from sklearn.impute import SimpleImputer\n",
    "from sklearn.neighbors import KNeighborsClassifier\n",
    "from sklearn.inspection import permutation_importance\n",
    "from sklearn.linear_model import LogisticRegression\n",
    "from sklearn.ensemble import RandomForestClassifier\n",
    "from sklearn.neighbors import KNeighborsClassifier\n",
    "\n",
    "pd.set_option('display.max_columns',200)\n",
    "pd.set_option(\"display.max_info_rows\", 800)\n",
    "pd.set_option('display.max_info_columns',800)\n",
    "\n",
    "from sklearn import set_config\n",
    "set_config(transform_output='pandas')\n",
    "\n",
    "import warnings\n",
    "warnings.filterwarnings(\"ignore\")"
   ]
  },
  {
   "cell_type": "markdown",
   "id": "8d9601b6-824e-4f50-9bc6-59e961094781",
   "metadata": {},
   "source": [
    "# <u> Custom Functions:"
   ]
  },
  {
   "cell_type": "code",
   "execution_count": 2,
   "id": "f0ac3866-aa26-486f-a8f5-41b1d3c3e9d3",
   "metadata": {},
   "outputs": [],
   "source": [
    "def classification_metrics(y_true, y_pred, label='',\n",
    "                           output_dict=False, figsize=(8,4),\n",
    "                           normalize='true', cmap='Blues',\n",
    "                           colorbar=False):\n",
    "    # Get the classification report\n",
    "    report = classification_report(y_true, y_pred)\n",
    "    ## Print header and report\n",
    "    header = \"-\"*70\n",
    "    print(header, f\" Classification Metrics: {label}\", header, sep='\\n')\n",
    "    print(report)\n",
    "    ## CONFUSION MATRICES SUBPLOTS\n",
    "    fig, axes = plt.subplots(ncols=2, figsize=figsize)\n",
    "    # create a confusion matrix  of raw counts\n",
    "    ConfusionMatrixDisplay.from_predictions(y_true, y_pred,\n",
    "                normalize=None, cmap='gist_gray', colorbar=colorbar,\n",
    "                ax = axes[0],);\n",
    "    axes[0].set_title(\"Raw Counts\")\n",
    "    # create a confusion matrix with the test data\n",
    "    ConfusionMatrixDisplay.from_predictions(y_true, y_pred,\n",
    "                normalize=normalize, cmap=cmap, colorbar=colorbar,\n",
    "                ax = axes[1]);\n",
    "    axes[1].set_title(\"Normalized Confusion Matrix\")\n",
    "    # Adjust layout and show figure\n",
    "    fig.tight_layout()\n",
    "    plt.show()\n",
    "    # Return dictionary of classification_report\n",
    "    if output_dict==True:\n",
    "        report_dict = classification_report(y_true, y_pred, output_dict=True)\n",
    "        return report_dict"
   ]
  },
  {
   "cell_type": "code",
   "execution_count": 3,
   "id": "75bab369-4b29-439d-8ba3-8d99a0920640",
   "metadata": {},
   "outputs": [],
   "source": [
    "def evaluate_classification(model, X_train, y_train, X_test, y_test,\n",
    "                         figsize=(6,4), normalize='true', output_dict = False,\n",
    "                            cmap_train='Blues', cmap_test=\"Reds\",colorbar=False):\n",
    "    # Get predictions for training data\n",
    "    y_train_pred = model.predict(X_train)\n",
    "    # Call the helper function to obtain regression metrics for training data\n",
    "    results_train = classification_metrics(y_train, y_train_pred, #verbose = verbose,\n",
    "                                     output_dict=True, figsize=figsize,\n",
    "                                         colorbar=colorbar, cmap=cmap_train,\n",
    "                                     label='Training Data')\n",
    "    print()\n",
    "    # Get predictions for test data\n",
    "    y_test_pred = model.predict(X_test)\n",
    "    # Call the helper function to obtain regression metrics for test data\n",
    "    results_test = classification_metrics(y_test, y_test_pred, #verbose = verbose,\n",
    "                                  output_dict=True,figsize=figsize,\n",
    "                                         colorbar=colorbar, cmap=cmap_test,\n",
    "                                    label='Test Data' )\n",
    "    if output_dict == True:\n",
    "        # Store results in a dataframe if ouput_frame is True\n",
    "        results_dict = {'train':results_train,\n",
    "                    'test': results_test}\n",
    "        return results_dict"
   ]
  },
  {
   "cell_type": "code",
   "execution_count": 4,
   "id": "8b6aa565-8725-416d-9741-ebb0ca712c57",
   "metadata": {},
   "outputs": [],
   "source": [
    "def get_importances(model, feature_names=None,name='Feature Importance',\n",
    "                   sort=False, ascending=True):\n",
    "    \n",
    "    ## checking for feature names\n",
    "    if feature_names == None:\n",
    "        feature_names = model.feature_names_in_\n",
    "        \n",
    "    ## Saving the feature importances\n",
    "    importances = pd.Series(model.feature_importances_, index= feature_names,\n",
    "                           name=name)\n",
    "    \n",
    "    # sort importances\n",
    "    if sort == True:\n",
    "        importances = importances.sort_values(ascending=ascending)\n",
    "        \n",
    "    return importances"
   ]
  },
  {
   "cell_type": "code",
   "execution_count": 5,
   "id": "e7bd7cc7-3efb-430c-bcd6-dbc431d468cf",
   "metadata": {},
   "outputs": [],
   "source": [
    "def plot_importance(importances, top_n=None,  figsize=(8,6)):\n",
    "    # sorting with asc=false for correct order of bars\n",
    "    if top_n==None:\n",
    "        ## sort all features and set title\n",
    "        plot_vals = importances.sort_values()\n",
    "        title = \"All Features - Ranked by Importance\"\n",
    "    else:\n",
    "        ## sort features and keep top_n and set title\n",
    "        plot_vals = importances.sort_values().tail(top_n)\n",
    "        title = f\"Top {top_n} Most Important Features\"\n",
    "    ## plotting top N importances\n",
    "    ax = plot_vals.plot(kind='barh', figsize=figsize)\n",
    "    ax.set(xlabel='Importance',\n",
    "            ylabel='Feature Names',\n",
    "            title=title)\n",
    "    ## return ax in case want to continue to update/modify figure\n",
    "    return ax"
   ]
  },
  {
   "cell_type": "code",
   "execution_count": 6,
   "id": "63f0bc2e-7b6b-4987-bb5f-3ad1a5cbc1db",
   "metadata": {},
   "outputs": [],
   "source": [
    "# Updating function\n",
    "def plot_categorical_vs_target(eda_ml, x, y, figsize=(6,4),\n",
    "                            order = None, target_type='reg'):\n",
    "\n",
    "  # Create the figure and subplots\n",
    "  fig, ax = plt.subplots(figsize=figsize)\n",
    "\n",
    "  # REGRESSION-TARGET PLOT\n",
    "  if target_type=='reg': #Added if statement here\n",
    "    # Barplot\n",
    "    sns.barplot(data=eda_ml, x=x, y=y, ax=ax, order=order, alpha=0.6,\n",
    "                linewidth=1, edgecolor='black', errorbar=None)\n",
    "\n",
    "    # Boxplot\n",
    "    sns.stripplot(data=eda_ml, x=x, y=y, hue=x, ax=ax,\n",
    "                  order=order, hue_order=order, legend=False,\n",
    "                  edgecolor='white', linewidth=0.5,\n",
    "                  size=3,zorder=0)\n",
    "\n",
    "  # CLASSIFICATION-TARGET PLOT # This is the new code for the classification task\n",
    "  elif target_type=='class':\n",
    "    ax = sns.histplot(data=eda_ml, hue=y, x=x, stat='percent',  multiple='fill')\n",
    "\n",
    "  # Rotate xlabels\n",
    "  ax.set_xticks(ax.get_xticks()) # Added this to prevent a bug\n",
    "  ax.set_xticklabels(ax.get_xticklabels(), rotation=45, ha='right')\n",
    "\n",
    "  # Add a title\n",
    "  ax.set_title(f\"{x} vs. {y}\")\n",
    "  fig.tight_layout()\n",
    "  return fig, ax"
   ]
  },
  {
   "cell_type": "markdown",
   "id": "80f08142-f6b3-4739-91d3-f102a1834782",
   "metadata": {},
   "source": [
    "# <u>Load Data:"
   ]
  },
  {
   "cell_type": "code",
   "execution_count": 7,
   "id": "bc76c2b7-5a5b-42e4-b29c-2d6763a59c90",
   "metadata": {},
   "outputs": [
    {
     "data": {
      "text/html": [
       "<div>\n",
       "<style scoped>\n",
       "    .dataframe tbody tr th:only-of-type {\n",
       "        vertical-align: middle;\n",
       "    }\n",
       "\n",
       "    .dataframe tbody tr th {\n",
       "        vertical-align: top;\n",
       "    }\n",
       "\n",
       "    .dataframe thead th {\n",
       "        text-align: right;\n",
       "    }\n",
       "</style>\n",
       "<table border=\"1\" class=\"dataframe\">\n",
       "  <thead>\n",
       "    <tr style=\"text-align: right;\">\n",
       "      <th></th>\n",
       "      <th>seqn</th>\n",
       "      <th>Age</th>\n",
       "      <th>Sex</th>\n",
       "      <th>Marital</th>\n",
       "      <th>Income</th>\n",
       "      <th>Race</th>\n",
       "      <th>WaistCirc</th>\n",
       "      <th>BMI</th>\n",
       "      <th>Albuminuria</th>\n",
       "      <th>UrAlbCr</th>\n",
       "      <th>UricAcid</th>\n",
       "      <th>BloodGlucose</th>\n",
       "      <th>HDL</th>\n",
       "      <th>Triglycerides</th>\n",
       "      <th>MetabolicSyndrome</th>\n",
       "    </tr>\n",
       "  </thead>\n",
       "  <tbody>\n",
       "    <tr>\n",
       "      <th>0</th>\n",
       "      <td>62161</td>\n",
       "      <td>22</td>\n",
       "      <td>Male</td>\n",
       "      <td>Single</td>\n",
       "      <td>8200.0</td>\n",
       "      <td>White</td>\n",
       "      <td>81.0</td>\n",
       "      <td>23.3</td>\n",
       "      <td>0</td>\n",
       "      <td>3.88</td>\n",
       "      <td>4.9</td>\n",
       "      <td>92</td>\n",
       "      <td>41</td>\n",
       "      <td>84</td>\n",
       "      <td>No MetSyn</td>\n",
       "    </tr>\n",
       "    <tr>\n",
       "      <th>1</th>\n",
       "      <td>62164</td>\n",
       "      <td>44</td>\n",
       "      <td>Female</td>\n",
       "      <td>Married</td>\n",
       "      <td>4500.0</td>\n",
       "      <td>White</td>\n",
       "      <td>80.1</td>\n",
       "      <td>23.2</td>\n",
       "      <td>0</td>\n",
       "      <td>8.55</td>\n",
       "      <td>4.5</td>\n",
       "      <td>82</td>\n",
       "      <td>28</td>\n",
       "      <td>56</td>\n",
       "      <td>No MetSyn</td>\n",
       "    </tr>\n",
       "    <tr>\n",
       "      <th>2</th>\n",
       "      <td>62169</td>\n",
       "      <td>21</td>\n",
       "      <td>Male</td>\n",
       "      <td>Single</td>\n",
       "      <td>800.0</td>\n",
       "      <td>Asian</td>\n",
       "      <td>69.6</td>\n",
       "      <td>20.1</td>\n",
       "      <td>0</td>\n",
       "      <td>5.07</td>\n",
       "      <td>5.4</td>\n",
       "      <td>107</td>\n",
       "      <td>43</td>\n",
       "      <td>78</td>\n",
       "      <td>No MetSyn</td>\n",
       "    </tr>\n",
       "    <tr>\n",
       "      <th>3</th>\n",
       "      <td>62172</td>\n",
       "      <td>43</td>\n",
       "      <td>Female</td>\n",
       "      <td>Single</td>\n",
       "      <td>2000.0</td>\n",
       "      <td>Black</td>\n",
       "      <td>120.4</td>\n",
       "      <td>33.3</td>\n",
       "      <td>0</td>\n",
       "      <td>5.22</td>\n",
       "      <td>5.0</td>\n",
       "      <td>104</td>\n",
       "      <td>73</td>\n",
       "      <td>141</td>\n",
       "      <td>No MetSyn</td>\n",
       "    </tr>\n",
       "    <tr>\n",
       "      <th>4</th>\n",
       "      <td>62177</td>\n",
       "      <td>51</td>\n",
       "      <td>Male</td>\n",
       "      <td>Married</td>\n",
       "      <td>NaN</td>\n",
       "      <td>Asian</td>\n",
       "      <td>81.1</td>\n",
       "      <td>20.1</td>\n",
       "      <td>0</td>\n",
       "      <td>8.13</td>\n",
       "      <td>5.0</td>\n",
       "      <td>95</td>\n",
       "      <td>43</td>\n",
       "      <td>126</td>\n",
       "      <td>No MetSyn</td>\n",
       "    </tr>\n",
       "  </tbody>\n",
       "</table>\n",
       "</div>"
      ],
      "text/plain": [
       "    seqn  Age     Sex  Marital  Income   Race  WaistCirc   BMI  Albuminuria  \\\n",
       "0  62161   22    Male   Single  8200.0  White       81.0  23.3            0   \n",
       "1  62164   44  Female  Married  4500.0  White       80.1  23.2            0   \n",
       "2  62169   21    Male   Single   800.0  Asian       69.6  20.1            0   \n",
       "3  62172   43  Female   Single  2000.0  Black      120.4  33.3            0   \n",
       "4  62177   51    Male  Married     NaN  Asian       81.1  20.1            0   \n",
       "\n",
       "   UrAlbCr  UricAcid  BloodGlucose  HDL  Triglycerides MetabolicSyndrome  \n",
       "0     3.88       4.9            92   41             84         No MetSyn  \n",
       "1     8.55       4.5            82   28             56         No MetSyn  \n",
       "2     5.07       5.4           107   43             78         No MetSyn  \n",
       "3     5.22       5.0           104   73            141         No MetSyn  \n",
       "4     8.13       5.0            95   43            126         No MetSyn  "
      ]
     },
     "execution_count": 7,
     "metadata": {},
     "output_type": "execute_result"
    }
   ],
   "source": [
    "df = pd.read_csv('Data/Metabolic  Syndrome.csv')\n",
    "df.head()"
   ]
  },
  {
   "cell_type": "code",
   "execution_count": 8,
   "id": "ac1019b3-458b-430e-ac8d-ec5ea1e252a0",
   "metadata": {},
   "outputs": [
    {
     "name": "stdout",
     "output_type": "stream",
     "text": [
      "<class 'pandas.core.frame.DataFrame'>\n",
      "RangeIndex: 2401 entries, 0 to 2400\n",
      "Data columns (total 15 columns):\n",
      " #   Column             Dtype  \n",
      "---  ------             -----  \n",
      " 0   seqn               int64  \n",
      " 1   Age                int64  \n",
      " 2   Sex                object \n",
      " 3   Marital            object \n",
      " 4   Income             float64\n",
      " 5   Race               object \n",
      " 6   WaistCirc          float64\n",
      " 7   BMI                float64\n",
      " 8   Albuminuria        int64  \n",
      " 9   UrAlbCr            float64\n",
      " 10  UricAcid           float64\n",
      " 11  BloodGlucose       int64  \n",
      " 12  HDL                int64  \n",
      " 13  Triglycerides      int64  \n",
      " 14  MetabolicSyndrome  object \n",
      "dtypes: float64(5), int64(6), object(4)\n",
      "memory usage: 281.5+ KB\n"
     ]
    }
   ],
   "source": [
    "# Reviewing the info\n",
    "df.info()"
   ]
  },
  {
   "cell_type": "code",
   "execution_count": 9,
   "id": "5392b862-1662-4970-8996-8cdaaa92fc85",
   "metadata": {},
   "outputs": [
    {
     "data": {
      "text/html": [
       "<div>\n",
       "<style scoped>\n",
       "    .dataframe tbody tr th:only-of-type {\n",
       "        vertical-align: middle;\n",
       "    }\n",
       "\n",
       "    .dataframe tbody tr th {\n",
       "        vertical-align: top;\n",
       "    }\n",
       "\n",
       "    .dataframe thead th {\n",
       "        text-align: right;\n",
       "    }\n",
       "</style>\n",
       "<table border=\"1\" class=\"dataframe\">\n",
       "  <thead>\n",
       "    <tr style=\"text-align: right;\">\n",
       "      <th></th>\n",
       "      <th>seqn</th>\n",
       "      <th>Age</th>\n",
       "      <th>Sex</th>\n",
       "      <th>Marital</th>\n",
       "      <th>Income</th>\n",
       "      <th>Race</th>\n",
       "      <th>WaistCirc</th>\n",
       "      <th>BMI</th>\n",
       "      <th>Albuminuria</th>\n",
       "      <th>UrAlbCr</th>\n",
       "      <th>UricAcid</th>\n",
       "      <th>BloodGlucose</th>\n",
       "      <th>HDL</th>\n",
       "      <th>Triglycerides</th>\n",
       "      <th>MetabolicSyndrome</th>\n",
       "    </tr>\n",
       "  </thead>\n",
       "  <tbody>\n",
       "    <tr>\n",
       "      <th>0</th>\n",
       "      <td>62161</td>\n",
       "      <td>22</td>\n",
       "      <td>Male</td>\n",
       "      <td>Single</td>\n",
       "      <td>8200.0</td>\n",
       "      <td>White</td>\n",
       "      <td>81.0</td>\n",
       "      <td>23.3</td>\n",
       "      <td>0</td>\n",
       "      <td>3.88</td>\n",
       "      <td>4.9</td>\n",
       "      <td>92</td>\n",
       "      <td>41</td>\n",
       "      <td>84</td>\n",
       "      <td>No MetSyn</td>\n",
       "    </tr>\n",
       "    <tr>\n",
       "      <th>1</th>\n",
       "      <td>62164</td>\n",
       "      <td>44</td>\n",
       "      <td>Female</td>\n",
       "      <td>Married</td>\n",
       "      <td>4500.0</td>\n",
       "      <td>White</td>\n",
       "      <td>80.1</td>\n",
       "      <td>23.2</td>\n",
       "      <td>0</td>\n",
       "      <td>8.55</td>\n",
       "      <td>4.5</td>\n",
       "      <td>82</td>\n",
       "      <td>28</td>\n",
       "      <td>56</td>\n",
       "      <td>No MetSyn</td>\n",
       "    </tr>\n",
       "    <tr>\n",
       "      <th>2</th>\n",
       "      <td>62169</td>\n",
       "      <td>21</td>\n",
       "      <td>Male</td>\n",
       "      <td>Single</td>\n",
       "      <td>800.0</td>\n",
       "      <td>Asian</td>\n",
       "      <td>69.6</td>\n",
       "      <td>20.1</td>\n",
       "      <td>0</td>\n",
       "      <td>5.07</td>\n",
       "      <td>5.4</td>\n",
       "      <td>107</td>\n",
       "      <td>43</td>\n",
       "      <td>78</td>\n",
       "      <td>No MetSyn</td>\n",
       "    </tr>\n",
       "    <tr>\n",
       "      <th>3</th>\n",
       "      <td>62172</td>\n",
       "      <td>43</td>\n",
       "      <td>Female</td>\n",
       "      <td>Single</td>\n",
       "      <td>2000.0</td>\n",
       "      <td>Black</td>\n",
       "      <td>120.4</td>\n",
       "      <td>33.3</td>\n",
       "      <td>0</td>\n",
       "      <td>5.22</td>\n",
       "      <td>5.0</td>\n",
       "      <td>104</td>\n",
       "      <td>73</td>\n",
       "      <td>141</td>\n",
       "      <td>No MetSyn</td>\n",
       "    </tr>\n",
       "    <tr>\n",
       "      <th>4</th>\n",
       "      <td>62177</td>\n",
       "      <td>51</td>\n",
       "      <td>Male</td>\n",
       "      <td>Married</td>\n",
       "      <td>NaN</td>\n",
       "      <td>Asian</td>\n",
       "      <td>81.1</td>\n",
       "      <td>20.1</td>\n",
       "      <td>0</td>\n",
       "      <td>8.13</td>\n",
       "      <td>5.0</td>\n",
       "      <td>95</td>\n",
       "      <td>43</td>\n",
       "      <td>126</td>\n",
       "      <td>No MetSyn</td>\n",
       "    </tr>\n",
       "    <tr>\n",
       "      <th>5</th>\n",
       "      <td>62178</td>\n",
       "      <td>80</td>\n",
       "      <td>Male</td>\n",
       "      <td>Widowed</td>\n",
       "      <td>300.0</td>\n",
       "      <td>White</td>\n",
       "      <td>112.5</td>\n",
       "      <td>28.5</td>\n",
       "      <td>0</td>\n",
       "      <td>9.79</td>\n",
       "      <td>4.8</td>\n",
       "      <td>105</td>\n",
       "      <td>47</td>\n",
       "      <td>100</td>\n",
       "      <td>No MetSyn</td>\n",
       "    </tr>\n",
       "    <tr>\n",
       "      <th>6</th>\n",
       "      <td>62184</td>\n",
       "      <td>26</td>\n",
       "      <td>Male</td>\n",
       "      <td>Single</td>\n",
       "      <td>9000.0</td>\n",
       "      <td>Black</td>\n",
       "      <td>78.6</td>\n",
       "      <td>22.1</td>\n",
       "      <td>0</td>\n",
       "      <td>9.21</td>\n",
       "      <td>5.4</td>\n",
       "      <td>87</td>\n",
       "      <td>61</td>\n",
       "      <td>40</td>\n",
       "      <td>No MetSyn</td>\n",
       "    </tr>\n",
       "    <tr>\n",
       "      <th>7</th>\n",
       "      <td>62189</td>\n",
       "      <td>30</td>\n",
       "      <td>Female</td>\n",
       "      <td>Married</td>\n",
       "      <td>6200.0</td>\n",
       "      <td>Asian</td>\n",
       "      <td>80.2</td>\n",
       "      <td>22.4</td>\n",
       "      <td>0</td>\n",
       "      <td>8.78</td>\n",
       "      <td>6.7</td>\n",
       "      <td>83</td>\n",
       "      <td>48</td>\n",
       "      <td>91</td>\n",
       "      <td>No MetSyn</td>\n",
       "    </tr>\n",
       "    <tr>\n",
       "      <th>8</th>\n",
       "      <td>62191</td>\n",
       "      <td>70</td>\n",
       "      <td>Male</td>\n",
       "      <td>Divorced</td>\n",
       "      <td>1000.0</td>\n",
       "      <td>Black</td>\n",
       "      <td>NaN</td>\n",
       "      <td>NaN</td>\n",
       "      <td>1</td>\n",
       "      <td>45.67</td>\n",
       "      <td>5.4</td>\n",
       "      <td>96</td>\n",
       "      <td>35</td>\n",
       "      <td>75</td>\n",
       "      <td>No MetSyn</td>\n",
       "    </tr>\n",
       "    <tr>\n",
       "      <th>9</th>\n",
       "      <td>62195</td>\n",
       "      <td>35</td>\n",
       "      <td>Male</td>\n",
       "      <td>NaN</td>\n",
       "      <td>2500.0</td>\n",
       "      <td>Black</td>\n",
       "      <td>99.0</td>\n",
       "      <td>28.2</td>\n",
       "      <td>0</td>\n",
       "      <td>2.21</td>\n",
       "      <td>6.7</td>\n",
       "      <td>94</td>\n",
       "      <td>46</td>\n",
       "      <td>86</td>\n",
       "      <td>No MetSyn</td>\n",
       "    </tr>\n",
       "  </tbody>\n",
       "</table>\n",
       "</div>"
      ],
      "text/plain": [
       "    seqn  Age     Sex   Marital  Income   Race  WaistCirc   BMI  Albuminuria  \\\n",
       "0  62161   22    Male    Single  8200.0  White       81.0  23.3            0   \n",
       "1  62164   44  Female   Married  4500.0  White       80.1  23.2            0   \n",
       "2  62169   21    Male    Single   800.0  Asian       69.6  20.1            0   \n",
       "3  62172   43  Female    Single  2000.0  Black      120.4  33.3            0   \n",
       "4  62177   51    Male   Married     NaN  Asian       81.1  20.1            0   \n",
       "5  62178   80    Male   Widowed   300.0  White      112.5  28.5            0   \n",
       "6  62184   26    Male    Single  9000.0  Black       78.6  22.1            0   \n",
       "7  62189   30  Female   Married  6200.0  Asian       80.2  22.4            0   \n",
       "8  62191   70    Male  Divorced  1000.0  Black        NaN   NaN            1   \n",
       "9  62195   35    Male       NaN  2500.0  Black       99.0  28.2            0   \n",
       "\n",
       "   UrAlbCr  UricAcid  BloodGlucose  HDL  Triglycerides MetabolicSyndrome  \n",
       "0     3.88       4.9            92   41             84         No MetSyn  \n",
       "1     8.55       4.5            82   28             56         No MetSyn  \n",
       "2     5.07       5.4           107   43             78         No MetSyn  \n",
       "3     5.22       5.0           104   73            141         No MetSyn  \n",
       "4     8.13       5.0            95   43            126         No MetSyn  \n",
       "5     9.79       4.8           105   47            100         No MetSyn  \n",
       "6     9.21       5.4            87   61             40         No MetSyn  \n",
       "7     8.78       6.7            83   48             91         No MetSyn  \n",
       "8    45.67       5.4            96   35             75         No MetSyn  \n",
       "9     2.21       6.7            94   46             86         No MetSyn  "
      ]
     },
     "execution_count": 9,
     "metadata": {},
     "output_type": "execute_result"
    }
   ],
   "source": [
    "# Looking at the 1st 10 rows of the data\n",
    "df.head(10)"
   ]
  },
  {
   "cell_type": "markdown",
   "id": "cb84e222-68f0-4144-b6aa-5874368b5182",
   "metadata": {},
   "source": [
    "# `Explore/clean the data`"
   ]
  },
  {
   "cell_type": "code",
   "execution_count": 10,
   "id": "961088ca-24e3-4c93-be88-c2df0b678fec",
   "metadata": {},
   "outputs": [
    {
     "data": {
      "text/html": [
       "<div>\n",
       "<style scoped>\n",
       "    .dataframe tbody tr th:only-of-type {\n",
       "        vertical-align: middle;\n",
       "    }\n",
       "\n",
       "    .dataframe tbody tr th {\n",
       "        vertical-align: top;\n",
       "    }\n",
       "\n",
       "    .dataframe thead th {\n",
       "        text-align: right;\n",
       "    }\n",
       "</style>\n",
       "<table border=\"1\" class=\"dataframe\">\n",
       "  <thead>\n",
       "    <tr style=\"text-align: right;\">\n",
       "      <th></th>\n",
       "      <th>seqn</th>\n",
       "      <th>Age</th>\n",
       "      <th>Income</th>\n",
       "      <th>WaistCirc</th>\n",
       "      <th>BMI</th>\n",
       "      <th>Albuminuria</th>\n",
       "      <th>UrAlbCr</th>\n",
       "      <th>UricAcid</th>\n",
       "      <th>BloodGlucose</th>\n",
       "      <th>HDL</th>\n",
       "      <th>Triglycerides</th>\n",
       "    </tr>\n",
       "  </thead>\n",
       "  <tbody>\n",
       "    <tr>\n",
       "      <th>count</th>\n",
       "      <td>2401.000000</td>\n",
       "      <td>2401.000000</td>\n",
       "      <td>2284.000000</td>\n",
       "      <td>2316.000000</td>\n",
       "      <td>2375.000000</td>\n",
       "      <td>2401.000000</td>\n",
       "      <td>2401.000000</td>\n",
       "      <td>2401.000000</td>\n",
       "      <td>2401.000000</td>\n",
       "      <td>2401.000000</td>\n",
       "      <td>2401.000000</td>\n",
       "    </tr>\n",
       "    <tr>\n",
       "      <th>mean</th>\n",
       "      <td>67030.674302</td>\n",
       "      <td>48.691795</td>\n",
       "      <td>4005.253940</td>\n",
       "      <td>98.307254</td>\n",
       "      <td>28.702189</td>\n",
       "      <td>0.154102</td>\n",
       "      <td>43.626131</td>\n",
       "      <td>5.489046</td>\n",
       "      <td>108.247813</td>\n",
       "      <td>53.369429</td>\n",
       "      <td>128.125364</td>\n",
       "    </tr>\n",
       "    <tr>\n",
       "      <th>std</th>\n",
       "      <td>2823.565114</td>\n",
       "      <td>17.632852</td>\n",
       "      <td>2954.032186</td>\n",
       "      <td>16.252634</td>\n",
       "      <td>6.662242</td>\n",
       "      <td>0.422780</td>\n",
       "      <td>258.272829</td>\n",
       "      <td>1.439358</td>\n",
       "      <td>34.820657</td>\n",
       "      <td>15.185537</td>\n",
       "      <td>95.322477</td>\n",
       "    </tr>\n",
       "    <tr>\n",
       "      <th>min</th>\n",
       "      <td>62161.000000</td>\n",
       "      <td>20.000000</td>\n",
       "      <td>300.000000</td>\n",
       "      <td>56.200000</td>\n",
       "      <td>13.400000</td>\n",
       "      <td>0.000000</td>\n",
       "      <td>1.400000</td>\n",
       "      <td>1.800000</td>\n",
       "      <td>39.000000</td>\n",
       "      <td>14.000000</td>\n",
       "      <td>26.000000</td>\n",
       "    </tr>\n",
       "    <tr>\n",
       "      <th>25%</th>\n",
       "      <td>64591.000000</td>\n",
       "      <td>34.000000</td>\n",
       "      <td>1600.000000</td>\n",
       "      <td>86.675000</td>\n",
       "      <td>24.000000</td>\n",
       "      <td>0.000000</td>\n",
       "      <td>4.450000</td>\n",
       "      <td>4.500000</td>\n",
       "      <td>92.000000</td>\n",
       "      <td>43.000000</td>\n",
       "      <td>75.000000</td>\n",
       "    </tr>\n",
       "    <tr>\n",
       "      <th>50%</th>\n",
       "      <td>67059.000000</td>\n",
       "      <td>48.000000</td>\n",
       "      <td>2500.000000</td>\n",
       "      <td>97.000000</td>\n",
       "      <td>27.700000</td>\n",
       "      <td>0.000000</td>\n",
       "      <td>7.070000</td>\n",
       "      <td>5.400000</td>\n",
       "      <td>99.000000</td>\n",
       "      <td>51.000000</td>\n",
       "      <td>103.000000</td>\n",
       "    </tr>\n",
       "    <tr>\n",
       "      <th>75%</th>\n",
       "      <td>69495.000000</td>\n",
       "      <td>63.000000</td>\n",
       "      <td>6200.000000</td>\n",
       "      <td>107.625000</td>\n",
       "      <td>32.100000</td>\n",
       "      <td>0.000000</td>\n",
       "      <td>13.690000</td>\n",
       "      <td>6.400000</td>\n",
       "      <td>110.000000</td>\n",
       "      <td>62.000000</td>\n",
       "      <td>150.000000</td>\n",
       "    </tr>\n",
       "    <tr>\n",
       "      <th>max</th>\n",
       "      <td>71915.000000</td>\n",
       "      <td>80.000000</td>\n",
       "      <td>9000.000000</td>\n",
       "      <td>176.000000</td>\n",
       "      <td>68.700000</td>\n",
       "      <td>2.000000</td>\n",
       "      <td>5928.000000</td>\n",
       "      <td>11.300000</td>\n",
       "      <td>382.000000</td>\n",
       "      <td>156.000000</td>\n",
       "      <td>1562.000000</td>\n",
       "    </tr>\n",
       "  </tbody>\n",
       "</table>\n",
       "</div>"
      ],
      "text/plain": [
       "               seqn          Age       Income    WaistCirc          BMI  \\\n",
       "count   2401.000000  2401.000000  2284.000000  2316.000000  2375.000000   \n",
       "mean   67030.674302    48.691795  4005.253940    98.307254    28.702189   \n",
       "std     2823.565114    17.632852  2954.032186    16.252634     6.662242   \n",
       "min    62161.000000    20.000000   300.000000    56.200000    13.400000   \n",
       "25%    64591.000000    34.000000  1600.000000    86.675000    24.000000   \n",
       "50%    67059.000000    48.000000  2500.000000    97.000000    27.700000   \n",
       "75%    69495.000000    63.000000  6200.000000   107.625000    32.100000   \n",
       "max    71915.000000    80.000000  9000.000000   176.000000    68.700000   \n",
       "\n",
       "       Albuminuria      UrAlbCr     UricAcid  BloodGlucose          HDL  \\\n",
       "count  2401.000000  2401.000000  2401.000000   2401.000000  2401.000000   \n",
       "mean      0.154102    43.626131     5.489046    108.247813    53.369429   \n",
       "std       0.422780   258.272829     1.439358     34.820657    15.185537   \n",
       "min       0.000000     1.400000     1.800000     39.000000    14.000000   \n",
       "25%       0.000000     4.450000     4.500000     92.000000    43.000000   \n",
       "50%       0.000000     7.070000     5.400000     99.000000    51.000000   \n",
       "75%       0.000000    13.690000     6.400000    110.000000    62.000000   \n",
       "max       2.000000  5928.000000    11.300000    382.000000   156.000000   \n",
       "\n",
       "       Triglycerides  \n",
       "count    2401.000000  \n",
       "mean      128.125364  \n",
       "std        95.322477  \n",
       "min        26.000000  \n",
       "25%        75.000000  \n",
       "50%       103.000000  \n",
       "75%       150.000000  \n",
       "max      1562.000000  "
      ]
     },
     "execution_count": 10,
     "metadata": {},
     "output_type": "execute_result"
    }
   ],
   "source": [
    "# Display the descriptive statistics for the numeric columns\n",
    "df.describe()"
   ]
  },
  {
   "cell_type": "code",
   "execution_count": 11,
   "id": "08ee12ca-f87e-48c9-8796-7ba798dbb677",
   "metadata": {},
   "outputs": [
    {
     "data": {
      "text/html": [
       "<div>\n",
       "<style scoped>\n",
       "    .dataframe tbody tr th:only-of-type {\n",
       "        vertical-align: middle;\n",
       "    }\n",
       "\n",
       "    .dataframe tbody tr th {\n",
       "        vertical-align: top;\n",
       "    }\n",
       "\n",
       "    .dataframe thead th {\n",
       "        text-align: right;\n",
       "    }\n",
       "</style>\n",
       "<table border=\"1\" class=\"dataframe\">\n",
       "  <thead>\n",
       "    <tr style=\"text-align: right;\">\n",
       "      <th></th>\n",
       "      <th>Sex</th>\n",
       "      <th>Marital</th>\n",
       "      <th>Race</th>\n",
       "      <th>MetabolicSyndrome</th>\n",
       "    </tr>\n",
       "  </thead>\n",
       "  <tbody>\n",
       "    <tr>\n",
       "      <th>count</th>\n",
       "      <td>2401</td>\n",
       "      <td>2193</td>\n",
       "      <td>2401</td>\n",
       "      <td>2401</td>\n",
       "    </tr>\n",
       "    <tr>\n",
       "      <th>unique</th>\n",
       "      <td>2</td>\n",
       "      <td>5</td>\n",
       "      <td>6</td>\n",
       "      <td>2</td>\n",
       "    </tr>\n",
       "    <tr>\n",
       "      <th>top</th>\n",
       "      <td>Female</td>\n",
       "      <td>Married</td>\n",
       "      <td>White</td>\n",
       "      <td>No MetSyn</td>\n",
       "    </tr>\n",
       "    <tr>\n",
       "      <th>freq</th>\n",
       "      <td>1211</td>\n",
       "      <td>1192</td>\n",
       "      <td>933</td>\n",
       "      <td>1579</td>\n",
       "    </tr>\n",
       "  </tbody>\n",
       "</table>\n",
       "</div>"
      ],
      "text/plain": [
       "           Sex  Marital   Race MetabolicSyndrome\n",
       "count     2401     2193   2401              2401\n",
       "unique       2        5      6                 2\n",
       "top     Female  Married  White         No MetSyn\n",
       "freq      1211     1192    933              1579"
      ]
     },
     "execution_count": 11,
     "metadata": {},
     "output_type": "execute_result"
    }
   ],
   "source": [
    "# Display the descriptive statistics for the non-numeric columns\n",
    "df.describe(exclude=\"number\")"
   ]
  },
  {
   "cell_type": "code",
   "execution_count": 12,
   "id": "0ba0afd0-61ae-477c-98a4-8d72f3e52d95",
   "metadata": {},
   "outputs": [
    {
     "data": {
      "text/plain": [
       "2401"
      ]
     },
     "execution_count": 12,
     "metadata": {},
     "output_type": "execute_result"
    }
   ],
   "source": [
    "df['seqn'].nunique()"
   ]
  },
  {
   "cell_type": "code",
   "execution_count": 13,
   "id": "775af3f8-72bf-4073-ba92-d1eaceb7fe85",
   "metadata": {},
   "outputs": [
    {
     "data": {
      "text/html": [
       "<div>\n",
       "<style scoped>\n",
       "    .dataframe tbody tr th:only-of-type {\n",
       "        vertical-align: middle;\n",
       "    }\n",
       "\n",
       "    .dataframe tbody tr th {\n",
       "        vertical-align: top;\n",
       "    }\n",
       "\n",
       "    .dataframe thead th {\n",
       "        text-align: right;\n",
       "    }\n",
       "</style>\n",
       "<table border=\"1\" class=\"dataframe\">\n",
       "  <thead>\n",
       "    <tr style=\"text-align: right;\">\n",
       "      <th></th>\n",
       "      <th>Age</th>\n",
       "      <th>Sex</th>\n",
       "      <th>Marital</th>\n",
       "      <th>Income</th>\n",
       "      <th>Race</th>\n",
       "      <th>WaistCirc</th>\n",
       "      <th>BMI</th>\n",
       "      <th>Albuminuria</th>\n",
       "      <th>UrAlbCr</th>\n",
       "      <th>UricAcid</th>\n",
       "      <th>BloodGlucose</th>\n",
       "      <th>HDL</th>\n",
       "      <th>Triglycerides</th>\n",
       "      <th>MetabolicSyndrome</th>\n",
       "    </tr>\n",
       "    <tr>\n",
       "      <th>seqn</th>\n",
       "      <th></th>\n",
       "      <th></th>\n",
       "      <th></th>\n",
       "      <th></th>\n",
       "      <th></th>\n",
       "      <th></th>\n",
       "      <th></th>\n",
       "      <th></th>\n",
       "      <th></th>\n",
       "      <th></th>\n",
       "      <th></th>\n",
       "      <th></th>\n",
       "      <th></th>\n",
       "      <th></th>\n",
       "    </tr>\n",
       "  </thead>\n",
       "  <tbody>\n",
       "    <tr>\n",
       "      <th>62161</th>\n",
       "      <td>22</td>\n",
       "      <td>Male</td>\n",
       "      <td>Single</td>\n",
       "      <td>8200.0</td>\n",
       "      <td>White</td>\n",
       "      <td>81.0</td>\n",
       "      <td>23.3</td>\n",
       "      <td>0</td>\n",
       "      <td>3.88</td>\n",
       "      <td>4.9</td>\n",
       "      <td>92</td>\n",
       "      <td>41</td>\n",
       "      <td>84</td>\n",
       "      <td>No MetSyn</td>\n",
       "    </tr>\n",
       "    <tr>\n",
       "      <th>62164</th>\n",
       "      <td>44</td>\n",
       "      <td>Female</td>\n",
       "      <td>Married</td>\n",
       "      <td>4500.0</td>\n",
       "      <td>White</td>\n",
       "      <td>80.1</td>\n",
       "      <td>23.2</td>\n",
       "      <td>0</td>\n",
       "      <td>8.55</td>\n",
       "      <td>4.5</td>\n",
       "      <td>82</td>\n",
       "      <td>28</td>\n",
       "      <td>56</td>\n",
       "      <td>No MetSyn</td>\n",
       "    </tr>\n",
       "    <tr>\n",
       "      <th>62169</th>\n",
       "      <td>21</td>\n",
       "      <td>Male</td>\n",
       "      <td>Single</td>\n",
       "      <td>800.0</td>\n",
       "      <td>Asian</td>\n",
       "      <td>69.6</td>\n",
       "      <td>20.1</td>\n",
       "      <td>0</td>\n",
       "      <td>5.07</td>\n",
       "      <td>5.4</td>\n",
       "      <td>107</td>\n",
       "      <td>43</td>\n",
       "      <td>78</td>\n",
       "      <td>No MetSyn</td>\n",
       "    </tr>\n",
       "  </tbody>\n",
       "</table>\n",
       "</div>"
      ],
      "text/plain": [
       "       Age     Sex  Marital  Income   Race  WaistCirc   BMI  Albuminuria  \\\n",
       "seqn                                                                       \n",
       "62161   22    Male   Single  8200.0  White       81.0  23.3            0   \n",
       "62164   44  Female  Married  4500.0  White       80.1  23.2            0   \n",
       "62169   21    Male   Single   800.0  Asian       69.6  20.1            0   \n",
       "\n",
       "       UrAlbCr  UricAcid  BloodGlucose  HDL  Triglycerides MetabolicSyndrome  \n",
       "seqn                                                                          \n",
       "62161     3.88       4.9            92   41             84         No MetSyn  \n",
       "62164     8.55       4.5            82   28             56         No MetSyn  \n",
       "62169     5.07       5.4           107   43             78         No MetSyn  "
      ]
     },
     "execution_count": 13,
     "metadata": {},
     "output_type": "execute_result"
    }
   ],
   "source": [
    "df = df.set_index('seqn')\n",
    "df.head(3)"
   ]
  },
  {
   "cell_type": "code",
   "execution_count": 14,
   "id": "f97921c8-d3fc-4cc7-92f7-b01b4ac5a8e6",
   "metadata": {},
   "outputs": [
    {
     "data": {
      "text/plain": [
       "0"
      ]
     },
     "execution_count": 14,
     "metadata": {},
     "output_type": "execute_result"
    }
   ],
   "source": [
    "# Looking for duplicates\n",
    "df.duplicated().sum()"
   ]
  },
  {
   "cell_type": "code",
   "execution_count": 15,
   "id": "a6c90d28-53d3-44e6-aac0-04fe868264ab",
   "metadata": {},
   "outputs": [
    {
     "data": {
      "text/plain": [
       "Age                    0\n",
       "Sex                    0\n",
       "Marital              208\n",
       "Income               117\n",
       "Race                   0\n",
       "WaistCirc             85\n",
       "BMI                   26\n",
       "Albuminuria            0\n",
       "UrAlbCr                0\n",
       "UricAcid               0\n",
       "BloodGlucose           0\n",
       "HDL                    0\n",
       "Triglycerides          0\n",
       "MetabolicSyndrome      0\n",
       "dtype: int64"
      ]
     },
     "execution_count": 15,
     "metadata": {},
     "output_type": "execute_result"
    }
   ],
   "source": [
    "# Looking for missing values\n",
    "df.isna().sum()"
   ]
  },
  {
   "cell_type": "code",
   "execution_count": 16,
   "id": "aad5a734-3b77-4ce9-a5b4-8e33f5d5a391",
   "metadata": {},
   "outputs": [
    {
     "data": {
      "image/png": "[encoded data removed]",
      "text/plain": [
       "<Figure size 2500x1000 with 2 Axes>"
      ]
     },
     "metadata": {},
     "output_type": "display_data"
    }
   ],
   "source": [
    "# looking at individulal missing sections\n",
    "missingno.matrix(df[['Marital','Income','WaistCirc','BMI']]);"
   ]
  },
  {
   "cell_type": "markdown",
   "id": "40a77bb4-768d-45df-8f66-079e204296fc",
   "metadata": {},
   "source": [
    "* ### My missing values are comming from Marital, Income, WaistCirc, and BMI"
   ]
  },
  {
   "cell_type": "markdown",
   "id": "5d80bb4b-f756-41e2-a47d-dc0fef00f52a",
   "metadata": {},
   "source": [
    "`Categorical Missing Values`"
   ]
  },
  {
   "cell_type": "markdown",
   "id": "a1b8e8cc-a939-416e-a21f-b25eaee1158e",
   "metadata": {},
   "source": [
    "Marital"
   ]
  },
  {
   "cell_type": "code",
   "execution_count": 17,
   "id": "eb76d72b-5b99-45b0-9359-eb83195107bf",
   "metadata": {},
   "outputs": [],
   "source": [
    "# Fill NaN values with the constant value 'Unknown'\n",
    "df.Marital.fillna('Unknown',inplace=True)"
   ]
  },
  {
   "cell_type": "code",
   "execution_count": 18,
   "id": "be9daf02-a9e6-43f0-9349-8cc39b2b8b89",
   "metadata": {},
   "outputs": [
    {
     "data": {
      "text/plain": [
       "Married      1192\n",
       "Single        498\n",
       "Divorced      242\n",
       "Unknown       208\n",
       "Widowed       166\n",
       "Separated      95\n",
       "Name: Marital, dtype: int64"
      ]
     },
     "execution_count": 18,
     "metadata": {},
     "output_type": "execute_result"
    }
   ],
   "source": [
    "# Looking at the value counts in Marital\n",
    "df['Marital'].value_counts()"
   ]
  },
  {
   "cell_type": "code",
   "execution_count": 19,
   "id": "ac1233df-e93f-48a6-bfbd-ca9ebe2c3dc4",
   "metadata": {},
   "outputs": [
    {
     "data": {
      "text/plain": [
       "0"
      ]
     },
     "execution_count": 19,
     "metadata": {},
     "output_type": "execute_result"
    }
   ],
   "source": [
    "# Rechecking missing values in Marital\n",
    "df['Marital'].isna().sum()"
   ]
  },
  {
   "cell_type": "markdown",
   "id": "0b07a81f-d2b3-4ecf-81cb-204633086b4c",
   "metadata": {},
   "source": [
    "`Numeric Missing Values`"
   ]
  },
  {
   "cell_type": "code",
   "execution_count": 20,
   "id": "9b305635-0c7b-4544-ac60-23c424a25628",
   "metadata": {},
   "outputs": [
    {
     "data": {
      "text/plain": [
       "228"
      ]
     },
     "execution_count": 20,
     "metadata": {},
     "output_type": "execute_result"
    }
   ],
   "source": [
    "# Rechecking all missing values\n",
    "df.isna().sum().sum()"
   ]
  },
  {
   "cell_type": "code",
   "execution_count": 21,
   "id": "7dccbf40-64c2-4718-8d40-85842232c5e3",
   "metadata": {},
   "outputs": [
    {
     "data": {
      "text/plain": [
       "Age                    0\n",
       "Sex                    0\n",
       "Marital                0\n",
       "Income               117\n",
       "Race                   0\n",
       "WaistCirc             85\n",
       "BMI                   26\n",
       "Albuminuria            0\n",
       "UrAlbCr                0\n",
       "UricAcid               0\n",
       "BloodGlucose           0\n",
       "HDL                    0\n",
       "Triglycerides          0\n",
       "MetabolicSyndrome      0\n",
       "dtype: int64"
      ]
     },
     "execution_count": 21,
     "metadata": {},
     "output_type": "execute_result"
    }
   ],
   "source": [
    "# Display the sum of my missing values\n",
    "df.isna().sum()"
   ]
  },
  {
   "cell_type": "markdown",
   "id": "a9354932-1247-471a-90e5-f41f387eb8a5",
   "metadata": {},
   "source": [
    "Income, WaistCirc, BMI"
   ]
  },
  {
   "cell_type": "code",
   "execution_count": 22,
   "id": "01f1cf2e-1725-4ee7-8fbb-a6e8c4b02118",
   "metadata": {},
   "outputs": [],
   "source": [
    "#Imputing num_cols with mean\n",
    "df['Income'] = df['Income'].fillna(df['Income'].mean())\n",
    "df['WaistCirc'] = df['WaistCirc'].fillna(df['WaistCirc'].mean())\n",
    "df['BMI'] = df['BMI'].fillna(df['BMI'].mean())"
   ]
  },
  {
   "cell_type": "code",
   "execution_count": 23,
   "id": "6bc423aa-32b8-4869-be05-b2303a852905",
   "metadata": {},
   "outputs": [
    {
     "data": {
      "text/plain": [
       "0"
      ]
     },
     "execution_count": 23,
     "metadata": {},
     "output_type": "execute_result"
    }
   ],
   "source": [
    "# Rechecking Missing Values\n",
    "df.isna().sum().sum()"
   ]
  },
  {
   "cell_type": "code",
   "execution_count": 24,
   "id": "063547c5-38e3-447f-9e5a-1aaaba975ff9",
   "metadata": {},
   "outputs": [
    {
     "data": {
      "text/plain": [
       "Age                  0\n",
       "Sex                  0\n",
       "Marital              0\n",
       "Income               0\n",
       "Race                 0\n",
       "WaistCirc            0\n",
       "BMI                  0\n",
       "Albuminuria          0\n",
       "UrAlbCr              0\n",
       "UricAcid             0\n",
       "BloodGlucose         0\n",
       "HDL                  0\n",
       "Triglycerides        0\n",
       "MetabolicSyndrome    0\n",
       "dtype: int64"
      ]
     },
     "execution_count": 24,
     "metadata": {},
     "output_type": "execute_result"
    }
   ],
   "source": [
    "# Rechecking Missing columns\n",
    "df.isna().sum()"
   ]
  },
  {
   "cell_type": "code",
   "execution_count": 25,
   "id": "b54540e4-6dd3-4e73-bd28-0b5a5f05a460",
   "metadata": {},
   "outputs": [
    {
     "data": {
      "image/png": "[encoded data removed]",
      "text/plain": [
       "<Figure size 2500x1000 with 2 Axes>"
      ]
     },
     "metadata": {},
     "output_type": "display_data"
    }
   ],
   "source": [
    "missingno.matrix(df[['Marital','Income','WaistCirc','BMI']]);"
   ]
  },
  {
   "cell_type": "code",
   "execution_count": 26,
   "id": "2da8a148-e5ee-46bd-a05d-5d24e418f0ab",
   "metadata": {},
   "outputs": [],
   "source": [
    "# Save Cleaned DataFrame\n",
    "df.to_csv(f'Data/clean_MetSyndr.csv', index=True)"
   ]
  },
  {
   "cell_type": "code",
   "execution_count": 27,
   "id": "2f20f01e-5391-48b5-9e4d-485c7568c185",
   "metadata": {},
   "outputs": [
    {
     "data": {
      "text/html": [
       "<div>\n",
       "<style scoped>\n",
       "    .dataframe tbody tr th:only-of-type {\n",
       "        vertical-align: middle;\n",
       "    }\n",
       "\n",
       "    .dataframe tbody tr th {\n",
       "        vertical-align: top;\n",
       "    }\n",
       "\n",
       "    .dataframe thead th {\n",
       "        text-align: right;\n",
       "    }\n",
       "</style>\n",
       "<table border=\"1\" class=\"dataframe\">\n",
       "  <thead>\n",
       "    <tr style=\"text-align: right;\">\n",
       "      <th></th>\n",
       "      <th>Sex</th>\n",
       "      <th>Marital</th>\n",
       "      <th>Race</th>\n",
       "      <th>MetabolicSyndrome</th>\n",
       "    </tr>\n",
       "  </thead>\n",
       "  <tbody>\n",
       "    <tr>\n",
       "      <th>count</th>\n",
       "      <td>2401</td>\n",
       "      <td>2401</td>\n",
       "      <td>2401</td>\n",
       "      <td>2401</td>\n",
       "    </tr>\n",
       "    <tr>\n",
       "      <th>unique</th>\n",
       "      <td>2</td>\n",
       "      <td>6</td>\n",
       "      <td>6</td>\n",
       "      <td>2</td>\n",
       "    </tr>\n",
       "    <tr>\n",
       "      <th>top</th>\n",
       "      <td>Female</td>\n",
       "      <td>Married</td>\n",
       "      <td>White</td>\n",
       "      <td>No MetSyn</td>\n",
       "    </tr>\n",
       "    <tr>\n",
       "      <th>freq</th>\n",
       "      <td>1211</td>\n",
       "      <td>1192</td>\n",
       "      <td>933</td>\n",
       "      <td>1579</td>\n",
       "    </tr>\n",
       "  </tbody>\n",
       "</table>\n",
       "</div>"
      ],
      "text/plain": [
       "           Sex  Marital   Race MetabolicSyndrome\n",
       "count     2401     2401   2401              2401\n",
       "unique       2        6      6                 2\n",
       "top     Female  Married  White         No MetSyn\n",
       "freq      1211     1192    933              1579"
      ]
     },
     "execution_count": 27,
     "metadata": {},
     "output_type": "execute_result"
    }
   ],
   "source": [
    "df.describe(include='object')"
   ]
  },
  {
   "cell_type": "code",
   "execution_count": 28,
   "id": "8ed99254-0241-4b4b-bc22-eb9ac8f096c2",
   "metadata": {},
   "outputs": [
    {
     "data": {
      "text/plain": [
       "Female    1211\n",
       "Male      1190\n",
       "Name: Sex, dtype: int64"
      ]
     },
     "execution_count": 28,
     "metadata": {},
     "output_type": "execute_result"
    }
   ],
   "source": [
    "# Taking a closer look at Sex column\n",
    "df['Sex'].value_counts()"
   ]
  },
  {
   "cell_type": "code",
   "execution_count": 29,
   "id": "e9504268-d3d2-41d7-ac3d-48255a911f4d",
   "metadata": {},
   "outputs": [
    {
     "data": {
      "text/plain": [
       "No MetSyn    1579\n",
       "MetSyn        822\n",
       "Name: MetabolicSyndrome, dtype: int64"
      ]
     },
     "execution_count": 29,
     "metadata": {},
     "output_type": "execute_result"
    }
   ],
   "source": [
    "# Looking at Value caounts in Metabolic Syndrome\n",
    "df['MetabolicSyndrome'].value_counts()"
   ]
  },
  {
   "cell_type": "code",
   "execution_count": 30,
   "id": "c22554a4-899a-4abc-88e2-be2cf3d0fc93",
   "metadata": {},
   "outputs": [
    {
     "data": {
      "text/html": [
       "<div>\n",
       "<style scoped>\n",
       "    .dataframe tbody tr th:only-of-type {\n",
       "        vertical-align: middle;\n",
       "    }\n",
       "\n",
       "    .dataframe tbody tr th {\n",
       "        vertical-align: top;\n",
       "    }\n",
       "\n",
       "    .dataframe thead th {\n",
       "        text-align: right;\n",
       "    }\n",
       "</style>\n",
       "<table border=\"1\" class=\"dataframe\">\n",
       "  <thead>\n",
       "    <tr style=\"text-align: right;\">\n",
       "      <th></th>\n",
       "      <th>Age</th>\n",
       "      <th>Sex</th>\n",
       "      <th>Marital</th>\n",
       "      <th>Income</th>\n",
       "      <th>Race</th>\n",
       "      <th>WaistCirc</th>\n",
       "      <th>BMI</th>\n",
       "      <th>Albuminuria</th>\n",
       "      <th>UrAlbCr</th>\n",
       "      <th>UricAcid</th>\n",
       "      <th>BloodGlucose</th>\n",
       "      <th>HDL</th>\n",
       "      <th>Triglycerides</th>\n",
       "      <th>MetabolicSyndrome</th>\n",
       "    </tr>\n",
       "    <tr>\n",
       "      <th>seqn</th>\n",
       "      <th></th>\n",
       "      <th></th>\n",
       "      <th></th>\n",
       "      <th></th>\n",
       "      <th></th>\n",
       "      <th></th>\n",
       "      <th></th>\n",
       "      <th></th>\n",
       "      <th></th>\n",
       "      <th></th>\n",
       "      <th></th>\n",
       "      <th></th>\n",
       "      <th></th>\n",
       "      <th></th>\n",
       "    </tr>\n",
       "  </thead>\n",
       "  <tbody>\n",
       "    <tr>\n",
       "      <th>62161</th>\n",
       "      <td>22</td>\n",
       "      <td>1</td>\n",
       "      <td>Single</td>\n",
       "      <td>8200.00000</td>\n",
       "      <td>White</td>\n",
       "      <td>81.0</td>\n",
       "      <td>23.3</td>\n",
       "      <td>0</td>\n",
       "      <td>3.88</td>\n",
       "      <td>4.9</td>\n",
       "      <td>92</td>\n",
       "      <td>41</td>\n",
       "      <td>84</td>\n",
       "      <td>0</td>\n",
       "    </tr>\n",
       "    <tr>\n",
       "      <th>62164</th>\n",
       "      <td>44</td>\n",
       "      <td>0</td>\n",
       "      <td>Married</td>\n",
       "      <td>4500.00000</td>\n",
       "      <td>White</td>\n",
       "      <td>80.1</td>\n",
       "      <td>23.2</td>\n",
       "      <td>0</td>\n",
       "      <td>8.55</td>\n",
       "      <td>4.5</td>\n",
       "      <td>82</td>\n",
       "      <td>28</td>\n",
       "      <td>56</td>\n",
       "      <td>0</td>\n",
       "    </tr>\n",
       "    <tr>\n",
       "      <th>62169</th>\n",
       "      <td>21</td>\n",
       "      <td>1</td>\n",
       "      <td>Single</td>\n",
       "      <td>800.00000</td>\n",
       "      <td>Asian</td>\n",
       "      <td>69.6</td>\n",
       "      <td>20.1</td>\n",
       "      <td>0</td>\n",
       "      <td>5.07</td>\n",
       "      <td>5.4</td>\n",
       "      <td>107</td>\n",
       "      <td>43</td>\n",
       "      <td>78</td>\n",
       "      <td>0</td>\n",
       "    </tr>\n",
       "    <tr>\n",
       "      <th>62172</th>\n",
       "      <td>43</td>\n",
       "      <td>0</td>\n",
       "      <td>Single</td>\n",
       "      <td>2000.00000</td>\n",
       "      <td>Black</td>\n",
       "      <td>120.4</td>\n",
       "      <td>33.3</td>\n",
       "      <td>0</td>\n",
       "      <td>5.22</td>\n",
       "      <td>5.0</td>\n",
       "      <td>104</td>\n",
       "      <td>73</td>\n",
       "      <td>141</td>\n",
       "      <td>0</td>\n",
       "    </tr>\n",
       "    <tr>\n",
       "      <th>62177</th>\n",
       "      <td>51</td>\n",
       "      <td>1</td>\n",
       "      <td>Married</td>\n",
       "      <td>4005.25394</td>\n",
       "      <td>Asian</td>\n",
       "      <td>81.1</td>\n",
       "      <td>20.1</td>\n",
       "      <td>0</td>\n",
       "      <td>8.13</td>\n",
       "      <td>5.0</td>\n",
       "      <td>95</td>\n",
       "      <td>43</td>\n",
       "      <td>126</td>\n",
       "      <td>0</td>\n",
       "    </tr>\n",
       "  </tbody>\n",
       "</table>\n",
       "</div>"
      ],
      "text/plain": [
       "       Age  Sex  Marital      Income   Race  WaistCirc   BMI  Albuminuria  \\\n",
       "seqn                                                                        \n",
       "62161   22    1   Single  8200.00000  White       81.0  23.3            0   \n",
       "62164   44    0  Married  4500.00000  White       80.1  23.2            0   \n",
       "62169   21    1   Single   800.00000  Asian       69.6  20.1            0   \n",
       "62172   43    0   Single  2000.00000  Black      120.4  33.3            0   \n",
       "62177   51    1  Married  4005.25394  Asian       81.1  20.1            0   \n",
       "\n",
       "       UrAlbCr  UricAcid  BloodGlucose  HDL  Triglycerides  MetabolicSyndrome  \n",
       "seqn                                                                           \n",
       "62161     3.88       4.9            92   41             84                  0  \n",
       "62164     8.55       4.5            82   28             56                  0  \n",
       "62169     5.07       5.4           107   43             78                  0  \n",
       "62172     5.22       5.0           104   73            141                  0  \n",
       "62177     8.13       5.0            95   43            126                  0  "
      ]
     },
     "execution_count": 30,
     "metadata": {},
     "output_type": "execute_result"
    }
   ],
   "source": [
    "# Sex and MetabolicSyndrome binary encoding\n",
    "df['Sex'] = df['Sex'].map({'Male': 1, 'Female': 0})\n",
    "df['MetabolicSyndrome'] = df['MetabolicSyndrome'].map({'MetSyn': 1, 'No MetSyn': 0})\n",
    "df.head()"
   ]
  },
  {
   "cell_type": "code",
   "execution_count": 31,
   "id": "6a66aba3-7053-4f33-bd1b-3093fabd69cc",
   "metadata": {},
   "outputs": [
    {
     "data": {
      "text/html": [
       "<div>\n",
       "<style scoped>\n",
       "    .dataframe tbody tr th:only-of-type {\n",
       "        vertical-align: middle;\n",
       "    }\n",
       "\n",
       "    .dataframe tbody tr th {\n",
       "        vertical-align: top;\n",
       "    }\n",
       "\n",
       "    .dataframe thead th {\n",
       "        text-align: right;\n",
       "    }\n",
       "</style>\n",
       "<table border=\"1\" class=\"dataframe\">\n",
       "  <thead>\n",
       "    <tr style=\"text-align: right;\">\n",
       "      <th></th>\n",
       "      <th>Age</th>\n",
       "      <th>Sex</th>\n",
       "      <th>Income</th>\n",
       "      <th>WaistCirc</th>\n",
       "      <th>BMI</th>\n",
       "      <th>Albuminuria</th>\n",
       "      <th>UrAlbCr</th>\n",
       "      <th>UricAcid</th>\n",
       "      <th>BloodGlucose</th>\n",
       "      <th>HDL</th>\n",
       "      <th>Triglycerides</th>\n",
       "      <th>MetabolicSyndrome</th>\n",
       "    </tr>\n",
       "  </thead>\n",
       "  <tbody>\n",
       "    <tr>\n",
       "      <th>count</th>\n",
       "      <td>2401.000000</td>\n",
       "      <td>2401.000000</td>\n",
       "      <td>2401.000000</td>\n",
       "      <td>2401.000000</td>\n",
       "      <td>2401.000000</td>\n",
       "      <td>2401.000000</td>\n",
       "      <td>2401.000000</td>\n",
       "      <td>2401.000000</td>\n",
       "      <td>2401.000000</td>\n",
       "      <td>2401.000000</td>\n",
       "      <td>2401.000000</td>\n",
       "      <td>2401.000000</td>\n",
       "    </tr>\n",
       "    <tr>\n",
       "      <th>mean</th>\n",
       "      <td>48.691795</td>\n",
       "      <td>0.495627</td>\n",
       "      <td>4005.253940</td>\n",
       "      <td>98.307254</td>\n",
       "      <td>28.702189</td>\n",
       "      <td>0.154102</td>\n",
       "      <td>43.626131</td>\n",
       "      <td>5.489046</td>\n",
       "      <td>108.247813</td>\n",
       "      <td>53.369429</td>\n",
       "      <td>128.125364</td>\n",
       "      <td>0.342357</td>\n",
       "    </tr>\n",
       "    <tr>\n",
       "      <th>std</th>\n",
       "      <td>17.632852</td>\n",
       "      <td>0.500085</td>\n",
       "      <td>2881.128031</td>\n",
       "      <td>15.962233</td>\n",
       "      <td>6.626057</td>\n",
       "      <td>0.422780</td>\n",
       "      <td>258.272829</td>\n",
       "      <td>1.439358</td>\n",
       "      <td>34.820657</td>\n",
       "      <td>15.185537</td>\n",
       "      <td>95.322477</td>\n",
       "      <td>0.474597</td>\n",
       "    </tr>\n",
       "    <tr>\n",
       "      <th>min</th>\n",
       "      <td>20.000000</td>\n",
       "      <td>0.000000</td>\n",
       "      <td>300.000000</td>\n",
       "      <td>56.200000</td>\n",
       "      <td>13.400000</td>\n",
       "      <td>0.000000</td>\n",
       "      <td>1.400000</td>\n",
       "      <td>1.800000</td>\n",
       "      <td>39.000000</td>\n",
       "      <td>14.000000</td>\n",
       "      <td>26.000000</td>\n",
       "      <td>0.000000</td>\n",
       "    </tr>\n",
       "    <tr>\n",
       "      <th>25%</th>\n",
       "      <td>34.000000</td>\n",
       "      <td>0.000000</td>\n",
       "      <td>1600.000000</td>\n",
       "      <td>87.000000</td>\n",
       "      <td>24.000000</td>\n",
       "      <td>0.000000</td>\n",
       "      <td>4.450000</td>\n",
       "      <td>4.500000</td>\n",
       "      <td>92.000000</td>\n",
       "      <td>43.000000</td>\n",
       "      <td>75.000000</td>\n",
       "      <td>0.000000</td>\n",
       "    </tr>\n",
       "    <tr>\n",
       "      <th>50%</th>\n",
       "      <td>48.000000</td>\n",
       "      <td>0.000000</td>\n",
       "      <td>3500.000000</td>\n",
       "      <td>97.500000</td>\n",
       "      <td>27.800000</td>\n",
       "      <td>0.000000</td>\n",
       "      <td>7.070000</td>\n",
       "      <td>5.400000</td>\n",
       "      <td>99.000000</td>\n",
       "      <td>51.000000</td>\n",
       "      <td>103.000000</td>\n",
       "      <td>0.000000</td>\n",
       "    </tr>\n",
       "    <tr>\n",
       "      <th>75%</th>\n",
       "      <td>63.000000</td>\n",
       "      <td>1.000000</td>\n",
       "      <td>6200.000000</td>\n",
       "      <td>107.200000</td>\n",
       "      <td>32.000000</td>\n",
       "      <td>0.000000</td>\n",
       "      <td>13.690000</td>\n",
       "      <td>6.400000</td>\n",
       "      <td>110.000000</td>\n",
       "      <td>62.000000</td>\n",
       "      <td>150.000000</td>\n",
       "      <td>1.000000</td>\n",
       "    </tr>\n",
       "    <tr>\n",
       "      <th>max</th>\n",
       "      <td>80.000000</td>\n",
       "      <td>1.000000</td>\n",
       "      <td>9000.000000</td>\n",
       "      <td>176.000000</td>\n",
       "      <td>68.700000</td>\n",
       "      <td>2.000000</td>\n",
       "      <td>5928.000000</td>\n",
       "      <td>11.300000</td>\n",
       "      <td>382.000000</td>\n",
       "      <td>156.000000</td>\n",
       "      <td>1562.000000</td>\n",
       "      <td>1.000000</td>\n",
       "    </tr>\n",
       "  </tbody>\n",
       "</table>\n",
       "</div>"
      ],
      "text/plain": [
       "               Age          Sex       Income    WaistCirc          BMI  \\\n",
       "count  2401.000000  2401.000000  2401.000000  2401.000000  2401.000000   \n",
       "mean     48.691795     0.495627  4005.253940    98.307254    28.702189   \n",
       "std      17.632852     0.500085  2881.128031    15.962233     6.626057   \n",
       "min      20.000000     0.000000   300.000000    56.200000    13.400000   \n",
       "25%      34.000000     0.000000  1600.000000    87.000000    24.000000   \n",
       "50%      48.000000     0.000000  3500.000000    97.500000    27.800000   \n",
       "75%      63.000000     1.000000  6200.000000   107.200000    32.000000   \n",
       "max      80.000000     1.000000  9000.000000   176.000000    68.700000   \n",
       "\n",
       "       Albuminuria      UrAlbCr     UricAcid  BloodGlucose          HDL  \\\n",
       "count  2401.000000  2401.000000  2401.000000   2401.000000  2401.000000   \n",
       "mean      0.154102    43.626131     5.489046    108.247813    53.369429   \n",
       "std       0.422780   258.272829     1.439358     34.820657    15.185537   \n",
       "min       0.000000     1.400000     1.800000     39.000000    14.000000   \n",
       "25%       0.000000     4.450000     4.500000     92.000000    43.000000   \n",
       "50%       0.000000     7.070000     5.400000     99.000000    51.000000   \n",
       "75%       0.000000    13.690000     6.400000    110.000000    62.000000   \n",
       "max       2.000000  5928.000000    11.300000    382.000000   156.000000   \n",
       "\n",
       "       Triglycerides  MetabolicSyndrome  \n",
       "count    2401.000000        2401.000000  \n",
       "mean      128.125364           0.342357  \n",
       "std        95.322477           0.474597  \n",
       "min        26.000000           0.000000  \n",
       "25%        75.000000           0.000000  \n",
       "50%       103.000000           0.000000  \n",
       "75%       150.000000           1.000000  \n",
       "max      1562.000000           1.000000  "
      ]
     },
     "execution_count": 31,
     "metadata": {},
     "output_type": "execute_result"
    }
   ],
   "source": [
    "# Looking over the stats\n",
    "df.describe(exclude='object')"
   ]
  },
  {
   "cell_type": "markdown",
   "id": "19f8cea9-71fa-4aa5-9bd8-439a0d0f9e73",
   "metadata": {},
   "source": [
    "# `Exploratory Visualizations`\n",
    "* Creating explorator visualizations to understand your data and search for trends."
   ]
  },
  {
   "cell_type": "code",
   "execution_count": 32,
   "id": "bd032abd-4e16-4f6a-9259-dc8410f26753",
   "metadata": {},
   "outputs": [
    {
     "data": {
      "text/html": [
       "<div>\n",
       "<style scoped>\n",
       "    .dataframe tbody tr th:only-of-type {\n",
       "        vertical-align: middle;\n",
       "    }\n",
       "\n",
       "    .dataframe tbody tr th {\n",
       "        vertical-align: top;\n",
       "    }\n",
       "\n",
       "    .dataframe thead th {\n",
       "        text-align: right;\n",
       "    }\n",
       "</style>\n",
       "<table border=\"1\" class=\"dataframe\">\n",
       "  <thead>\n",
       "    <tr style=\"text-align: right;\">\n",
       "      <th></th>\n",
       "      <th>Age</th>\n",
       "      <th>Sex</th>\n",
       "      <th>Income</th>\n",
       "      <th>WaistCirc</th>\n",
       "      <th>BMI</th>\n",
       "      <th>Albuminuria</th>\n",
       "      <th>UrAlbCr</th>\n",
       "      <th>UricAcid</th>\n",
       "      <th>BloodGlucose</th>\n",
       "      <th>HDL</th>\n",
       "      <th>Triglycerides</th>\n",
       "      <th>MetabolicSyndrome</th>\n",
       "    </tr>\n",
       "  </thead>\n",
       "  <tbody>\n",
       "    <tr>\n",
       "      <th>Age</th>\n",
       "      <td>1.00</td>\n",
       "      <td>0.01</td>\n",
       "      <td>-0.01</td>\n",
       "      <td>0.22</td>\n",
       "      <td>0.08</td>\n",
       "      <td>0.23</td>\n",
       "      <td>0.12</td>\n",
       "      <td>0.15</td>\n",
       "      <td>0.24</td>\n",
       "      <td>0.08</td>\n",
       "      <td>0.07</td>\n",
       "      <td>0.25</td>\n",
       "    </tr>\n",
       "    <tr>\n",
       "      <th>Sex</th>\n",
       "      <td>0.01</td>\n",
       "      <td>1.00</td>\n",
       "      <td>0.03</td>\n",
       "      <td>0.12</td>\n",
       "      <td>-0.05</td>\n",
       "      <td>0.02</td>\n",
       "      <td>0.01</td>\n",
       "      <td>0.41</td>\n",
       "      <td>0.09</td>\n",
       "      <td>-0.32</td>\n",
       "      <td>0.13</td>\n",
       "      <td>0.02</td>\n",
       "    </tr>\n",
       "    <tr>\n",
       "      <th>Income</th>\n",
       "      <td>-0.01</td>\n",
       "      <td>0.03</td>\n",
       "      <td>1.00</td>\n",
       "      <td>-0.06</td>\n",
       "      <td>-0.08</td>\n",
       "      <td>-0.10</td>\n",
       "      <td>-0.05</td>\n",
       "      <td>0.01</td>\n",
       "      <td>-0.09</td>\n",
       "      <td>0.08</td>\n",
       "      <td>-0.04</td>\n",
       "      <td>-0.08</td>\n",
       "    </tr>\n",
       "    <tr>\n",
       "      <th>WaistCirc</th>\n",
       "      <td>0.22</td>\n",
       "      <td>0.12</td>\n",
       "      <td>-0.06</td>\n",
       "      <td>1.00</td>\n",
       "      <td>0.88</td>\n",
       "      <td>0.12</td>\n",
       "      <td>0.04</td>\n",
       "      <td>0.35</td>\n",
       "      <td>0.25</td>\n",
       "      <td>-0.34</td>\n",
       "      <td>0.23</td>\n",
       "      <td>0.49</td>\n",
       "    </tr>\n",
       "    <tr>\n",
       "      <th>BMI</th>\n",
       "      <td>0.08</td>\n",
       "      <td>-0.05</td>\n",
       "      <td>-0.08</td>\n",
       "      <td>0.88</td>\n",
       "      <td>1.00</td>\n",
       "      <td>0.08</td>\n",
       "      <td>0.04</td>\n",
       "      <td>0.27</td>\n",
       "      <td>0.21</td>\n",
       "      <td>-0.29</td>\n",
       "      <td>0.16</td>\n",
       "      <td>0.43</td>\n",
       "    </tr>\n",
       "    <tr>\n",
       "      <th>Albuminuria</th>\n",
       "      <td>0.23</td>\n",
       "      <td>0.02</td>\n",
       "      <td>-0.10</td>\n",
       "      <td>0.12</td>\n",
       "      <td>0.08</td>\n",
       "      <td>1.00</td>\n",
       "      <td>0.54</td>\n",
       "      <td>0.18</td>\n",
       "      <td>0.20</td>\n",
       "      <td>-0.02</td>\n",
       "      <td>0.11</td>\n",
       "      <td>0.16</td>\n",
       "    </tr>\n",
       "    <tr>\n",
       "      <th>UrAlbCr</th>\n",
       "      <td>0.12</td>\n",
       "      <td>0.01</td>\n",
       "      <td>-0.05</td>\n",
       "      <td>0.04</td>\n",
       "      <td>0.04</td>\n",
       "      <td>0.54</td>\n",
       "      <td>1.00</td>\n",
       "      <td>0.13</td>\n",
       "      <td>0.11</td>\n",
       "      <td>0.00</td>\n",
       "      <td>0.08</td>\n",
       "      <td>0.09</td>\n",
       "    </tr>\n",
       "    <tr>\n",
       "      <th>UricAcid</th>\n",
       "      <td>0.15</td>\n",
       "      <td>0.41</td>\n",
       "      <td>0.01</td>\n",
       "      <td>0.35</td>\n",
       "      <td>0.27</td>\n",
       "      <td>0.18</td>\n",
       "      <td>0.13</td>\n",
       "      <td>1.00</td>\n",
       "      <td>0.06</td>\n",
       "      <td>-0.25</td>\n",
       "      <td>0.21</td>\n",
       "      <td>0.25</td>\n",
       "    </tr>\n",
       "    <tr>\n",
       "      <th>BloodGlucose</th>\n",
       "      <td>0.24</td>\n",
       "      <td>0.09</td>\n",
       "      <td>-0.09</td>\n",
       "      <td>0.25</td>\n",
       "      <td>0.21</td>\n",
       "      <td>0.20</td>\n",
       "      <td>0.11</td>\n",
       "      <td>0.06</td>\n",
       "      <td>1.00</td>\n",
       "      <td>-0.21</td>\n",
       "      <td>0.27</td>\n",
       "      <td>0.36</td>\n",
       "    </tr>\n",
       "    <tr>\n",
       "      <th>HDL</th>\n",
       "      <td>0.08</td>\n",
       "      <td>-0.32</td>\n",
       "      <td>0.08</td>\n",
       "      <td>-0.34</td>\n",
       "      <td>-0.29</td>\n",
       "      <td>-0.02</td>\n",
       "      <td>0.00</td>\n",
       "      <td>-0.25</td>\n",
       "      <td>-0.21</td>\n",
       "      <td>1.00</td>\n",
       "      <td>-0.39</td>\n",
       "      <td>-0.37</td>\n",
       "    </tr>\n",
       "    <tr>\n",
       "      <th>Triglycerides</th>\n",
       "      <td>0.07</td>\n",
       "      <td>0.13</td>\n",
       "      <td>-0.04</td>\n",
       "      <td>0.23</td>\n",
       "      <td>0.16</td>\n",
       "      <td>0.11</td>\n",
       "      <td>0.08</td>\n",
       "      <td>0.21</td>\n",
       "      <td>0.27</td>\n",
       "      <td>-0.39</td>\n",
       "      <td>1.00</td>\n",
       "      <td>0.43</td>\n",
       "    </tr>\n",
       "    <tr>\n",
       "      <th>MetabolicSyndrome</th>\n",
       "      <td>0.25</td>\n",
       "      <td>0.02</td>\n",
       "      <td>-0.08</td>\n",
       "      <td>0.49</td>\n",
       "      <td>0.43</td>\n",
       "      <td>0.16</td>\n",
       "      <td>0.09</td>\n",
       "      <td>0.25</td>\n",
       "      <td>0.36</td>\n",
       "      <td>-0.37</td>\n",
       "      <td>0.43</td>\n",
       "      <td>1.00</td>\n",
       "    </tr>\n",
       "  </tbody>\n",
       "</table>\n",
       "</div>"
      ],
      "text/plain": [
       "                    Age   Sex  Income  WaistCirc   BMI  Albuminuria  UrAlbCr  \\\n",
       "Age                1.00  0.01   -0.01       0.22  0.08         0.23     0.12   \n",
       "Sex                0.01  1.00    0.03       0.12 -0.05         0.02     0.01   \n",
       "Income            -0.01  0.03    1.00      -0.06 -0.08        -0.10    -0.05   \n",
       "WaistCirc          0.22  0.12   -0.06       1.00  0.88         0.12     0.04   \n",
       "BMI                0.08 -0.05   -0.08       0.88  1.00         0.08     0.04   \n",
       "Albuminuria        0.23  0.02   -0.10       0.12  0.08         1.00     0.54   \n",
       "UrAlbCr            0.12  0.01   -0.05       0.04  0.04         0.54     1.00   \n",
       "UricAcid           0.15  0.41    0.01       0.35  0.27         0.18     0.13   \n",
       "BloodGlucose       0.24  0.09   -0.09       0.25  0.21         0.20     0.11   \n",
       "HDL                0.08 -0.32    0.08      -0.34 -0.29        -0.02     0.00   \n",
       "Triglycerides      0.07  0.13   -0.04       0.23  0.16         0.11     0.08   \n",
       "MetabolicSyndrome  0.25  0.02   -0.08       0.49  0.43         0.16     0.09   \n",
       "\n",
       "                   UricAcid  BloodGlucose   HDL  Triglycerides  \\\n",
       "Age                    0.15          0.24  0.08           0.07   \n",
       "Sex                    0.41          0.09 -0.32           0.13   \n",
       "Income                 0.01         -0.09  0.08          -0.04   \n",
       "WaistCirc              0.35          0.25 -0.34           0.23   \n",
       "BMI                    0.27          0.21 -0.29           0.16   \n",
       "Albuminuria            0.18          0.20 -0.02           0.11   \n",
       "UrAlbCr                0.13          0.11  0.00           0.08   \n",
       "UricAcid               1.00          0.06 -0.25           0.21   \n",
       "BloodGlucose           0.06          1.00 -0.21           0.27   \n",
       "HDL                   -0.25         -0.21  1.00          -0.39   \n",
       "Triglycerides          0.21          0.27 -0.39           1.00   \n",
       "MetabolicSyndrome      0.25          0.36 -0.37           0.43   \n",
       "\n",
       "                   MetabolicSyndrome  \n",
       "Age                             0.25  \n",
       "Sex                             0.02  \n",
       "Income                         -0.08  \n",
       "WaistCirc                       0.49  \n",
       "BMI                             0.43  \n",
       "Albuminuria                     0.16  \n",
       "UrAlbCr                         0.09  \n",
       "UricAcid                        0.25  \n",
       "BloodGlucose                    0.36  \n",
       "HDL                            -0.37  \n",
       "Triglycerides                   0.43  \n",
       "MetabolicSyndrome               1.00  "
      ]
     },
     "execution_count": 32,
     "metadata": {},
     "output_type": "execute_result"
    }
   ],
   "source": [
    "# Get correlations\n",
    "corr = df.corr(numeric_only = True)\n",
    "corr.round(2)"
   ]
  },
  {
   "cell_type": "code",
   "execution_count": 33,
   "id": "3e288a8c-9752-4d8c-8623-3f95f85b915f",
   "metadata": {},
   "outputs": [
    {
     "data": {
      "text/plain": [
       "<Axes: >"
      ]
     },
     "execution_count": 33,
     "metadata": {},
     "output_type": "execute_result"
    },
    {
     "data": {
      "image/png": "[encoded data removed]",
      "text/plain": [
       "<Figure size 2000x2000 with 2 Axes>"
      ]
     },
     "metadata": {},
     "output_type": "display_data"
    }
   ],
   "source": [
    "# Create a fig, ax with a figsize argument\n",
    "fig, ax = plt.subplots(figsize=(20,20))\n",
    "sns.heatmap(corr, cmap = 'coolwarm', annot = True, ax=ax)"
   ]
  },
  {
   "cell_type": "code",
   "execution_count": 34,
   "id": "50432293-7781-4532-aec5-a3da9bf2a096",
   "metadata": {},
   "outputs": [
    {
     "data": {
      "image/png": "[encoded data removed]",
      "text/plain": [
       "<Figure size 1600x1800 with 12 Axes>"
      ]
     },
     "metadata": {},
     "output_type": "display_data"
    }
   ],
   "source": [
    "# Creating a visual plot \n",
    "df.hist(figsize=(16,18));"
   ]
  },
  {
   "cell_type": "code",
   "execution_count": 35,
   "id": "c7a31b33-304e-4940-a71b-5822eea1f46f",
   "metadata": {},
   "outputs": [
    {
     "name": "stdout",
     "output_type": "stream",
     "text": [
      "Marital count plot \n",
      "\n"
     ]
    },
    {
     "data": {
      "image/png": "[encoded data removed]",
      "text/plain": [
       "<Figure size 640x480 with 1 Axes>"
      ]
     },
     "metadata": {},
     "output_type": "display_data"
    },
    {
     "name": "stdout",
     "output_type": "stream",
     "text": [
      "Race count plot \n",
      "\n"
     ]
    },
    {
     "data": {
      "image/png": "[encoded data removed]",
      "text/plain": [
       "<Figure size 640x480 with 1 Axes>"
      ]
     },
     "metadata": {},
     "output_type": "display_data"
    }
   ],
   "source": [
    "for col in df.select_dtypes('object').columns:\n",
    "    print(col +' count plot \\n') \n",
    "    sns.countplot(x =col, data =df)\n",
    "    plt.show()"
   ]
  },
  {
   "cell_type": "code",
   "execution_count": 36,
   "id": "d868fc88-f67d-418e-8f7d-b30487da301a",
   "metadata": {},
   "outputs": [
    {
     "data": {
      "text/plain": [
       "0    1579\n",
       "1     822\n",
       "Name: MetabolicSyndrome, dtype: int64"
      ]
     },
     "execution_count": 36,
     "metadata": {},
     "output_type": "execute_result"
    }
   ],
   "source": [
    "# Check how many samples of each class are present\n",
    "df['MetabolicSyndrome'].value_counts(normalize=False)"
   ]
  },
  {
   "cell_type": "code",
   "execution_count": 37,
   "id": "5bf39c06-5f64-404a-a558-c384aaaae69f",
   "metadata": {},
   "outputs": [
    {
     "data": {
      "text/plain": [
       "0    0.657643\n",
       "1    0.342357\n",
       "Name: MetabolicSyndrome, dtype: float64"
      ]
     },
     "execution_count": 37,
     "metadata": {},
     "output_type": "execute_result"
    }
   ],
   "source": [
    "# Check how many samples of each class are present\n",
    "df['MetabolicSyndrome'].value_counts(normalize=True)"
   ]
  },
  {
   "cell_type": "markdown",
   "id": "b90e3f9a-e35a-4ee0-850d-ec5b183d25e3",
   "metadata": {},
   "source": [
    "# `Choose a model`\n",
    "* ## Preprocess data"
   ]
  },
  {
   "cell_type": "code",
   "execution_count": 38,
   "id": "815d0657-ddcc-40f7-a490-ecb34b534a38",
   "metadata": {},
   "outputs": [
    {
     "ename": "NameError",
     "evalue": "name 'target' is not defined",
     "output_type": "error",
     "traceback": [
      "\u001b[1;31m---------------------------------------------------------------------------\u001b[0m",
      "\u001b[1;31mNameError\u001b[0m                                 Traceback (most recent call last)",
      "Cell \u001b[1;32mIn[38], line 2\u001b[0m\n\u001b[0;32m      1\u001b[0m \u001b[38;5;66;03m# Split X and y, we are predicting Metabolic Syndrometarget = 'MetabolicSyndrome'\u001b[39;00m\n\u001b[1;32m----> 2\u001b[0m X \u001b[38;5;241m=\u001b[39m df\u001b[38;5;241m.\u001b[39mdrop(columns\u001b[38;5;241m=\u001b[39m[\u001b[43mtarget\u001b[49m])\u001b[38;5;241m.\u001b[39mcopy()\n\u001b[0;32m      3\u001b[0m y \u001b[38;5;241m=\u001b[39m df[target]\u001b[38;5;241m.\u001b[39mcopy()\n\u001b[0;32m      5\u001b[0m \u001b[38;5;66;03m# Split the dataset\u001b[39;00m\n",
      "\u001b[1;31mNameError\u001b[0m: name 'target' is not defined"
     ]
    }
   ],
   "source": [
    "# Split X and y, we are predicting Metabolic Syndrometarget = 'MetabolicSyndrome'\n",
    "X = df.drop(columns=[target]).copy()\n",
    "y = df[target].copy()\n",
    "\n",
    "# Split the dataset\n",
    "X_train, X_test, y_train, y_test = train_test_split(X, y, stratify=y, random_state=42)"
   ]
  },
  {
   "cell_type": "code",
   "execution_count": null,
   "id": "65147168-6ca1-4a52-bbb2-3c184fab311f",
   "metadata": {},
   "outputs": [],
   "source": [
    "# Check for class balance of target\n",
    "y_train.value_counts(1)"
   ]
  },
  {
   "cell_type": "code",
   "execution_count": null,
   "id": "5c777d70-0292-4964-9144-e06f3aa1d47a",
   "metadata": {},
   "outputs": [],
   "source": [
    "X_train.shape"
   ]
  },
  {
   "cell_type": "code",
   "execution_count": null,
   "id": "c70bedaa-2940-4b76-850b-15b5063de608",
   "metadata": {},
   "outputs": [],
   "source": [
    "X_test.shape"
   ]
  },
  {
   "cell_type": "code",
   "execution_count": null,
   "id": "1aaa04ed-8429-4c03-8ac2-f968af7e98c2",
   "metadata": {},
   "outputs": [],
   "source": [
    "X_train.dtypes"
   ]
  },
  {
   "cell_type": "code",
   "execution_count": null,
   "id": "4fd41adf-3ec7-4b09-b97c-d3888d922f8e",
   "metadata": {},
   "outputs": [],
   "source": [
    "cat_cols = ['Sex', 'Marital','Race']\n",
    "num_cols = ['Age', 'Income','WaistCirc','BMI','Albuminuria','UrAlbCr','UricAcid','BloodGlucose','HDL','Triglycerides']"
   ]
  },
  {
   "cell_type": "code",
   "execution_count": null,
   "id": "f1da521b-b2ff-4907-b979-e1d677f001df",
   "metadata": {},
   "outputs": [],
   "source": [
    "# Categorical Pipeline / Tuple\n",
    "# Using value 'Undisclosed' to fill in null values (all in 'Marital')\n",
    "impute_missing = SimpleImputer(strategy='constant',fill_value='Missing')\n",
    "ohe_encoder = OneHotEncoder(sparse_output=False, handle_unknown='ignore')\n",
    "scaler = StandardScaler()\n",
    "\n",
    "nom_pipe = make_pipeline(impute_missing, ohe_encoder, scaler)\n",
    "nom_pipe\n",
    "\n",
    "# Nominal Tuple\n",
    "nom_tuple = ('categorical', nom_pipe, cat_cols)\n",
    "\n",
    "nom_tuple"
   ]
  },
  {
   "cell_type": "code",
   "execution_count": null,
   "id": "03e6c22b-0d17-4214-a2cf-5c9f9c180a85",
   "metadata": {},
   "outputs": [],
   "source": [
    "# PREPROCESSING PIPELINE FOR NUMERIC DATA\n",
    "# Save list of column names\n",
    "print(\"Numeric Columns:\", num_cols)\n",
    "\n",
    "# Transformers\n",
    "median_imputer = SimpleImputer(strategy='median')\n",
    "scaler = StandardScaler()\n",
    "\n",
    "# Make a numeric preprocessing pipeline\n",
    "num_pipe = make_pipeline(median_imputer, scaler)\n",
    "# Making a numeric tuple for ColumnTransformer\n",
    "num_tuple = ('numeric', num_pipe, num_cols)\n",
    "num_tuple"
   ]
  },
  {
   "cell_type": "code",
   "execution_count": null,
   "id": "f3370e21-7f6f-4d25-9f0d-4473d53c86e1",
   "metadata": {},
   "outputs": [],
   "source": [
    "# Create the preprocessor using make_column_transformer\n",
    "preprocessor = ColumnTransformer([num_tuple, nom_tuple],\n",
    "                                 verbose_feature_names_out=False)\n",
    "preprocessor"
   ]
  },
  {
   "cell_type": "code",
   "execution_count": null,
   "id": "6fc6e29a-2ff2-4d71-a90e-5ae4fa39192f",
   "metadata": {},
   "outputs": [],
   "source": [
    "# Fitting column transformer and run get_feature_names_out\n",
    "preprocessor.fit(X_train)\n",
    "feature_names = preprocessor.get_feature_names_out()\n",
    "feature_names"
   ]
  },
  {
   "cell_type": "code",
   "execution_count": null,
   "id": "91dfeb7f-511c-4d3e-9a91-2afdf97fa76a",
   "metadata": {},
   "outputs": [],
   "source": [
    "X_train_tf = pd.DataFrame(preprocessor.transform(X_train),\n",
    "                           columns = feature_names, index = X_train.index)\n",
    "X_train_tf.head()"
   ]
  },
  {
   "cell_type": "code",
   "execution_count": null,
   "id": "356fa2fa-d182-45c6-a4fb-0dc7a2362911",
   "metadata": {},
   "outputs": [],
   "source": [
    "X_test_tf = pd.DataFrame(preprocessor.transform(X_test),\n",
    "                           columns = feature_names, index = X_test.index)\n",
    "X_test_tf.head()"
   ]
  },
  {
   "cell_type": "code",
   "execution_count": null,
   "id": "aeb3a269-a46a-4b2d-ac42-f83ddc487fa2",
   "metadata": {},
   "outputs": [],
   "source": [
    "# Confirming the first 3 rows index in y_test matches X_test_df\n",
    "y_test.head()"
   ]
  },
  {
   "cell_type": "code",
   "execution_count": null,
   "id": "b4b66667-61d0-4565-a373-13d73370618b",
   "metadata": {},
   "outputs": [],
   "source": []
  },
  {
   "cell_type": "markdown",
   "id": "637a9224-b247-4295-8bf6-ddcb89c595a7",
   "metadata": {},
   "source": [
    "* ## Fit and evaluate a default model"
   ]
  },
  {
   "cell_type": "code",
   "execution_count": null,
   "id": "a9bc99de-5ee5-4e79-bc37-f1c61df780f1",
   "metadata": {},
   "outputs": [],
   "source": [
    "# Define LogReg model pipeline\n",
    "X_train_rf = preprocessor.fit_transform(X_train)\n",
    "X_test_rf = preprocessor.transform(X_test)\n",
    "\n",
    "# Create an instance of the model\n",
    "rfc = RandomForestClassifier()\n",
    "rfc.fit(X_train_tf, y_train)"
   ]
  },
  {
   "cell_type": "code",
   "execution_count": null,
   "id": "ebd20fa6-921a-4512-a8f6-2c72aed82a4f",
   "metadata": {},
   "outputs": [],
   "source": [
    "evaluate_classification(rfc, X_train_rf, y_train, X_test_rf, y_test)"
   ]
  },
  {
   "cell_type": "markdown",
   "id": "845f25e2-9e38-4627-9815-7faebb87b6b9",
   "metadata": {},
   "source": [
    "* ## Extract and visualize the top 10 features using permutation importance\n",
    "    * (from Intro to ML Week 4)"
   ]
  },
  {
   "cell_type": "code",
   "execution_count": null,
   "id": "7a001532-4ab9-4ee2-a9d9-2a5e8c608114",
   "metadata": {},
   "outputs": [],
   "source": [
    "from imblearn.over_sampling import RandomOverSampler\n",
    "over_sampler = RandomOverSampler()\n",
    "X_train_ov, y_train_ov = over_sampler.fit_resample(X_train_tf, y_train)\n",
    "y_train_ov.value_counts()"
   ]
  },
  {
   "cell_type": "code",
   "execution_count": null,
   "id": "c42f938c-295f-4011-8b9d-8ff325ba5488",
   "metadata": {},
   "outputs": [],
   "source": [
    "# Create an instance of the model\n",
    "rfc_over = RandomForestClassifier()\n",
    "rfc_over.fit(X_train_ov, y_train_ov)"
   ]
  },
  {
   "cell_type": "code",
   "execution_count": null,
   "id": "057a9e27-f69d-43cd-b215-35b31b0c394b",
   "metadata": {},
   "outputs": [],
   "source": [
    "evaluate_classification(rfc_over, X_train_ov, y_train_ov, X_test_tf, y_test)"
   ]
  },
  {
   "cell_type": "code",
   "execution_count": null,
   "id": "ba286fd3-110b-4f52-b00c-6ec7ef5e155b",
   "metadata": {},
   "outputs": [],
   "source": [
    "evaluate_classification(rfc, X_train_rf, y_train, X_test_rf, y_test)"
   ]
  },
  {
   "cell_type": "markdown",
   "id": "e53b61ec-3391-44c2-91b6-ba8d94ba0da5",
   "metadata": {},
   "source": [
    "* ## Add your observations in a Markdown:\n",
    "    * ### Do these features make sense based on the business case?"
   ]
  },
  {
   "cell_type": "markdown",
   "id": "e3bb929f-237a-4767-b288-19c77f252422",
   "metadata": {},
   "source": []
  },
  {
   "cell_type": "markdown",
   "id": "31361877-8f0b-457c-ba5d-1882c2e76244",
   "metadata": {},
   "source": [
    "* ## `Create Explanatory Visualizations for the most important features`\n",
    "    *  ### Select 2 out of the top 10 features from your permutation importances and produce explanatory visualizations showing the relationship between the feature and the target.\n",
    "    *  ### The purpose is to demonstrate key trends you found that will be of interest to a stakeholder."
   ]
  },
  {
   "cell_type": "code",
   "execution_count": null,
   "id": "d86a14c8-ae52-4637-a6cf-2c114a4af0b7",
   "metadata": {},
   "outputs": [],
   "source": [
    "from sklearn.inspection import permutation_importance"
   ]
  },
  {
   "cell_type": "code",
   "execution_count": null,
   "id": "25fbde28-abe9-4dfe-afea-3f62d30c4701",
   "metadata": {},
   "outputs": [],
   "source": [
    "# Obtain feature importances from the fit model\n",
    "rfc.feature_importances_"
   ]
  },
  {
   "cell_type": "code",
   "execution_count": null,
   "id": "c2587810-fb32-4847-8fd4-d64e7214c083",
   "metadata": {},
   "outputs": [],
   "source": [
    "# Checking the number of feature importances matches the # of columns\n",
    "print(len(rfc.feature_importances_))\n",
    "print(len(X_train_tf.columns))\n",
    "len(rfc.feature_importances_) == len(X_train_tf.columns)"
   ]
  },
  {
   "cell_type": "markdown",
   "id": "ba5df191-6033-44d6-8c5d-f99d44e23d2d",
   "metadata": {},
   "source": [
    "## `Explanatory Visualization 1`"
   ]
  },
  {
   "cell_type": "code",
   "execution_count": null,
   "id": "875cf2d6-8809-417a-903c-b84e89ae75a8",
   "metadata": {},
   "outputs": [],
   "source": [
    "def get_importances(model, feature_names=None,name='Feature Importance',\n",
    "                   sort=False, ascending=True):\n",
    "    \n",
    "    ## checking for feature names\n",
    "    if feature_names == None:\n",
    "        feature_names = model.feature_names_in_\n",
    "        \n",
    "    ## Saving the feature importances\n",
    "    importances = pd.Series(model.feature_importances_, index= feature_names,\n",
    "                           name=name)\n",
    "    \n",
    "    # sort importances\n",
    "    if sort == True:\n",
    "        importances = importances.sort_values(ascending=ascending)\n",
    "        \n",
    "    return importances"
   ]
  },
  {
   "cell_type": "code",
   "execution_count": null,
   "id": "ae09ba18-6f39-479f-ae97-07ae1c297b3a",
   "metadata": {},
   "outputs": [],
   "source": [
    "importances = get_importances(rfc,sort=True,ascending=False)\n",
    "importances"
   ]
  },
  {
   "cell_type": "code",
   "execution_count": null,
   "id": "8ce337f9-467f-471f-a3f8-2a70e42886b4",
   "metadata": {},
   "outputs": [],
   "source": [
    "def plot_importance(importances, top_n=None,  figsize=(8,6)):\n",
    "    # sorting with asc=false for correct order of bars\n",
    "    if top_n==None:\n",
    "        ## sort all features and set title\n",
    "        plot_vals = importances.sort_values()\n",
    "        title = \"All Features - Ranked by Importance\"\n",
    "    else:\n",
    "        ## sort features and keep top_n and set title\n",
    "        plot_vals = importances.sort_values().tail(top_n)\n",
    "        title = f\"Top {top_n} Most Important Features\"\n",
    "    ## plotting top N importances\n",
    "    ax = plot_vals.plot(kind='barh', figsize=figsize)\n",
    "    ax.set(xlabel='Importance',\n",
    "            ylabel='Feature Names',\n",
    "            title=title)\n",
    "    ## return ax in case want to continue to update/modify figure\n",
    "    return ax"
   ]
  },
  {
   "cell_type": "code",
   "execution_count": null,
   "id": "3542c842-b8c0-4958-ac38-d8bc0b56fb62",
   "metadata": {},
   "outputs": [],
   "source": [
    "# testing our function\n",
    "importances = get_importances(rfc,sort=True,ascending=False,\n",
    "                              name=\"RandomForest Importances\")\n",
    "plot_importance(importances,top_n=10);"
   ]
  },
  {
   "cell_type": "markdown",
   "id": "58d7d8ce-abc9-4108-8ff2-7121106d2173",
   "metadata": {},
   "source": [
    "## `Explanatory Visualization 2`"
   ]
  },
  {
   "cell_type": "code",
   "execution_count": null,
   "id": "85fa577f-f880-4cd6-968d-7b0abc41e1a8",
   "metadata": {},
   "outputs": [],
   "source": [
    "# Permutation importance takes a fit model and the test data.\n",
    "r = permutation_importance(rfc, X_test_tf, y_test,n_repeats =5)\n",
    "r.keys()"
   ]
  },
  {
   "cell_type": "code",
   "execution_count": null,
   "id": "7ad2ac63-e0f6-43b5-a428-9ae0f614c67e",
   "metadata": {},
   "outputs": [],
   "source": [
    "# Making the mean importances into a series\n",
    "permutation_importances = pd.Series(r['importances_mean'],index=X_test_tf.columns,\n",
    "                           name = 'permutation importance')\n",
    "permutation_importances = permutation_importances.sort_values(ascending=False)\n",
    "permutation_importances"
   ]
  },
  {
   "cell_type": "code",
   "execution_count": null,
   "id": "510c548e-c15f-4ef6-9c3b-e7183f321c0b",
   "metadata": {},
   "outputs": [],
   "source": [
    "ax = plot_importance(permutation_importances,top_n=10)\n",
    "ax.set(xlabel='Permutation Importance');"
   ]
  },
  {
   "cell_type": "code",
   "execution_count": null,
   "id": "a480614e-6118-4b68-8e8f-b565dfddeacc",
   "metadata": {},
   "outputs": [],
   "source": [
    "def get_color_dict(importances, color_rest='#006ba4' , color_top='green',\n",
    "                    top_n=7):\n",
    "    ## color -coding top 5 bars\n",
    "    highlight_feats = importances.sort_values(ascending=True).tail(top_n).index\n",
    "    colors_dict = {col: color_top if col in highlight_feats else color_rest for col in importances.index}\n",
    "    return colors_dict"
   ]
  },
  {
   "cell_type": "code",
   "execution_count": null,
   "id": "275b3004-0ab8-452d-9ae4-c4a76040fdba",
   "metadata": {},
   "outputs": [],
   "source": [
    "colors_top7 = get_color_dict(importances, top_n=7)\n",
    "colors_top7"
   ]
  },
  {
   "cell_type": "code",
   "execution_count": null,
   "id": "a4ea838b-32ea-4aa6-9e5b-8e134a36546d",
   "metadata": {},
   "outputs": [],
   "source": [
    "def plot_importance_color_ax(importances, top_n=None,  figsize=(8,6), \n",
    "                          color_dict=None, ax=None):\n",
    "    \n",
    "    # sorting with asc=false for correct order of bars\n",
    "    if top_n==None:\n",
    "        ## sort all features and set title\n",
    "        plot_vals = importances.sort_values()\n",
    "        title = \"All Features - Ranked by Importance\"\n",
    "    else:\n",
    "        ## sort features and keep top_n and set title\n",
    "        plot_vals = importances.sort_values().tail(top_n)\n",
    "        title = f\"Top {top_n} Most Important Features\"\n",
    "    ## create plot with colors, if provided\n",
    "    if color_dict is not None:\n",
    "        ## Getting color list and saving to plot_kws\n",
    "        colors = plot_vals.index.map(color_dict)\n",
    "        ax = plot_vals.plot(kind='barh', figsize=figsize, color=colors, ax=ax)\n",
    "        \n",
    "    else:\n",
    "        ## create plot without colors, if not provided\n",
    "        ax = plot_vals.plot(kind='barh', figsize=figsize, ax=ax)\n",
    "        \n",
    "    # set titles and axis labels\n",
    "    ax.set(xlabel='Importance', \n",
    "           ylabel='Feature Names', \n",
    "           title=title)\n",
    "    \n",
    "    ## return ax in case want to continue to update/modify figure\n",
    "    return ax"
   ]
  },
  {
   "cell_type": "code",
   "execution_count": null,
   "id": "4447f893-bbc6-48f1-ab68-5933d4b617ce",
   "metadata": {},
   "outputs": [],
   "source": [
    "fig, axes = plt.subplots(ncols=2, figsize=(20,8))\n",
    "n = 20 # setting the # of features to use for both subplots\n",
    "plot_importance_color_ax(importances, top_n=n, ax=axes[0],\n",
    "                         color_dict= colors_top7)\n",
    "plot_importance_color_ax(permutation_importances, top_n=n, ax=axes[1],\n",
    "                         color_dict=colors_top7)\n",
    "axes[0].set(title='R.F. Importances')\n",
    "axes[1].set(title='Permutation Importances')\n",
    "fig.tight_layout()"
   ]
  },
  {
   "cell_type": "markdown",
   "id": "502d2cc5-3b4f-41de-a212-4e3482fe60a1",
   "metadata": {},
   "source": [
    "Triglycerides and Blood Gucose are the higest on both graphs, URAlbCr is high the RF which can be signs of metabolic syndrome however so can many other factors that are high."
   ]
  },
  {
   "cell_type": "markdown",
   "id": "aef4d4cf-dedd-4591-ae07-1428e526b99d",
   "metadata": {},
   "source": [
    "## `1. These visuals should be reporting-quality with titles, labels, and a short explanation of the trend.` \n",
    "* ### Explain in a text cell the insight associated with each visual.\n",
    "    * Both of these visualizations should be easily understood by a non-technical audience\n",
    "        * (Neither of these should be histograms, boxplots, or correlation plots).\n",
    "## `2. These will be added to your readme in part 4`"
   ]
  },
  {
   "cell_type": "markdown",
   "id": "f9e47baf-a00c-48cf-923d-ae5b2d65034e",
   "metadata": {},
   "source": [
    "## `Explanatory Visualization 1`"
   ]
  },
  {
   "cell_type": "code",
   "execution_count": null,
   "id": "cd08ef36-42d2-4ca9-8625-08eeee40f972",
   "metadata": {},
   "outputs": [],
   "source": [
    "sns.stripplot(data=df, x='MetabolicSyndrome',y='BloodGlucose', hue='BloodGlucose', palette='flare', \n",
    "              edgecolor='white', linewidth=1).set(title=\"Comparing Blood Glucose Levels and Instances of Metabolic Syndrome\");\n"
   ]
  },
  {
   "cell_type": "markdown",
   "id": "f56770dc-e664-47c1-9918-7ce6d7a3b474",
   "metadata": {},
   "source": [
    "## `Explanatory Visualization 2`"
   ]
  },
  {
   "cell_type": "code",
   "execution_count": null,
   "id": "87666eb0-2509-4a67-8cce-a3c889de287b",
   "metadata": {},
   "outputs": [],
   "source": [
    "sns.stripplot(data=df, x='MetabolicSyndrome',y='Triglycerides', hue='Triglycerides', \n",
    "              palette='flare', edgecolor='white', \n",
    "              linewidth=1).set(title=\"Comparing Triglyceride Levels and Instances of Metabolic Syndrome\");"
   ]
  }
 ],
 "metadata": {
  "kernelspec": {
   "display_name": "Python (dojo-env)",
   "language": "python",
   "name": "dojo-env"
  },
  "language_info": {
   "codemirror_mode": {
    "name": "ipython",
    "version": 3
   },
   "file_extension": ".py",
   "mimetype": "text/x-python",
   "name": "python",
   "nbconvert_exporter": "python",
   "pygments_lexer": "ipython3",
   "version": "3.10.10"
  },
  "widgets": {
   "application/vnd.jupyter.widget-state+json": {
    "state": {},
    "version_major": 2,
    "version_minor": 0
   }
  }
 },
 "nbformat": 4,
 "nbformat_minor": 5
}
