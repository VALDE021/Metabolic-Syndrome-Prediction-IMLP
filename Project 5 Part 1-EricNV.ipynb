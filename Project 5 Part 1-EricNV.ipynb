{
 "cells": [
  {
   "cell_type": "markdown",
   "id": "42553836-c4c3-4801-aa6b-387bc9bdda7a",
   "metadata": {},
   "source": [
    "# <u>`Project 5 Part 1 Core`\n",
    "* Authored By: Eric N. Valdez\n",
    "* Date: 2/29/24"
   ]
  },
  {
   "cell_type": "markdown",
   "id": "a3e2307a-59e1-4f98-b697-88feae87096c",
   "metadata": {},
   "source": [
    "# <u><center> [Metabolic Syndrome Prediction](https://data.world/informatics-edu/metabolic-syndrome-prediction)\n",
    "* The dataset for analysis came from the [NHANES](https://www.cdc.gov/nchs/nhanes/index.htm) initiative where the following variables were combined from multiple tables with SQL: abnormal waist circumference, triglycerides above 150, HDL cholesterol below 50 in women or 40 in men, history of hypertension and mildly elevated fasting blood sugar (100-125). Numerous other variables were added, such as uric acid, race, income, etc. that might contribute to the model but we will not sure, until we test the model.\n",
    "* [Data Dictionary](https://docs.google.com/document/d/11D8SRng4m7w3ONQkX0bm6_3etsyjD7CDJCNZBLtprzk) as listed below"
   ]
  },
  {
   "cell_type": "raw",
   "id": "b3765885-82b9-4577-8da0-16dd7d00b5f1",
   "metadata": {},
   "source": [
    "Feature\t                                               Description\n",
    "\n",
    "seqn\t                                         Respondent sequence number\n",
    "Age\t                                                   Age in Years\n",
    "Sex\t                                                  Male or Female\n",
    "Marital\t                                              Marital status\n",
    "Income\t                                              Income in Dollars\n",
    "Race\t                                               Racial Group\n",
    "WaistCirc\t                                       Waist Circumference (cm)\n",
    "BMI\t                                               Body Mass Index (kg/m**2)\n",
    "Albuminuria\t                                        Albumin in Urine (mg/L))\n",
    "UrAlbCr\t                                Ratio of Albumin (mcg/L) to Creatinine (mg/L) in Urine\n",
    "UricAcid\t                                       Uric Acid in Blood (mg/dl)\n",
    "BloodGlucose\t                                   Glucose in Blood (mg/dL)\n",
    "HDL\t                                            High Density Lipoprotein (mg/dl)\n",
    "Triglycerides\t                                  Triglycerides in Blood (mg/dL)\n",
    "MetabolicSyndrome\t               Presence or not of at least three of the five metabolic risk factorsc risk factors"
   ]
  },
  {
   "cell_type": "markdown",
   "id": "89d75d26-d8b5-4e2d-97cb-90c11b946638",
   "metadata": {},
   "source": [
    "# <u>Assignment:"
   ]
  },
  {
   "cell_type": "markdown",
   "id": "2cce0eb7-c8b0-484e-88eb-05b5765743ea",
   "metadata": {},
   "source": [
    "#### When choosing your dataset, consider the following:\n",
    "* What is the target? (You are required to complete a classification task for this project)\n",
    "* What does one row represent? (A person? A business? An event? A product?)\n",
    "* How many features does the data have?\n",
    "* How many rows are in the dataset?\n",
    "* What opportunities exist for dimensionality reduction or feature selection with this dataset?\n",
    "* What, if any, challenges do you foresee in cleaning, exploring, or modeling this dataset?"
   ]
  },
  {
   "cell_type": "markdown",
   "id": "a37c37bd-752e-495c-a3b8-24ad722ca8b9",
   "metadata": {},
   "source": [
    "# <u>For this task:\n",
    "* Choose the a dataset from the provided list"
   ]
  },
  {
   "cell_type": "markdown",
   "id": "5dc272e5-48b1-4505-be5d-cc602c77351b",
   "metadata": {},
   "source": [
    "# <u>Imports:"
   ]
  },
  {
   "cell_type": "code",
   "execution_count": null,
   "id": "92b4bac0-30f5-4304-93b4-a1446f2ed0b6",
   "metadata": {},
   "outputs": [],
   "source": []
  },
  {
   "cell_type": "markdown",
   "id": "8d9601b6-824e-4f50-9bc6-59e961094781",
   "metadata": {},
   "source": [
    "# <u> Custom Functions:"
   ]
  },
  {
   "cell_type": "code",
   "execution_count": null,
   "id": "f0ac3866-aa26-486f-a8f5-41b1d3c3e9d3",
   "metadata": {},
   "outputs": [],
   "source": []
  },
  {
   "cell_type": "markdown",
   "id": "80f08142-f6b3-4739-91d3-f102a1834782",
   "metadata": {},
   "source": [
    "# <u>Load Data:"
   ]
  },
  {
   "cell_type": "code",
   "execution_count": null,
   "id": "bc76c2b7-5a5b-42e4-b29c-2d6763a59c90",
   "metadata": {},
   "outputs": [],
   "source": []
  },
  {
   "cell_type": "markdown",
   "id": "cb84e222-68f0-4144-b6aa-5874368b5182",
   "metadata": {},
   "source": [
    "# `Explore/clean the data`"
   ]
  },
  {
   "cell_type": "code",
   "execution_count": null,
   "id": "0ba0afd0-61ae-477c-98a4-8d72f3e52d95",
   "metadata": {},
   "outputs": [],
   "source": []
  },
  {
   "cell_type": "markdown",
   "id": "19f8cea9-71fa-4aa5-9bd8-439a0d0f9e73",
   "metadata": {},
   "source": [
    "# `Exploratory Visualizations`\n",
    "* Creating explorator visualizations to understand your data and search for trends."
   ]
  },
  {
   "cell_type": "markdown",
   "id": "b90e3f9a-e35a-4ee0-850d-ec5b183d25e3",
   "metadata": {},
   "source": [
    "# `Choose a model`\n",
    "* ## Preprocess data"
   ]
  },
  {
   "cell_type": "code",
   "execution_count": null,
   "id": "815d0657-ddcc-40f7-a490-ecb34b534a38",
   "metadata": {},
   "outputs": [],
   "source": []
  },
  {
   "cell_type": "markdown",
   "id": "637a9224-b247-4295-8bf6-ddcb89c595a7",
   "metadata": {},
   "source": [
    "* ## Fit and evaluate a default model"
   ]
  },
  {
   "cell_type": "code",
   "execution_count": null,
   "id": "6ed28504-c960-4153-8551-2d96e3c714c0",
   "metadata": {},
   "outputs": [],
   "source": []
  },
  {
   "cell_type": "markdown",
   "id": "845f25e2-9e38-4627-9815-7faebb87b6b9",
   "metadata": {},
   "source": [
    "* ## Extract and visualize the top 10 features using permutation importance\n",
    "    * (from Intro to ML Week 4)"
   ]
  },
  {
   "cell_type": "code",
   "execution_count": null,
   "id": "7a001532-4ab9-4ee2-a9d9-2a5e8c608114",
   "metadata": {},
   "outputs": [],
   "source": []
  },
  {
   "cell_type": "markdown",
   "id": "e53b61ec-3391-44c2-91b6-ba8d94ba0da5",
   "metadata": {},
   "source": [
    "* ## Add your observations in a Markdown:\n",
    "    * ### Do these features make sense based on the business case?"
   ]
  },
  {
   "cell_type": "markdown",
   "id": "e3bb929f-237a-4767-b288-19c77f252422",
   "metadata": {},
   "source": []
  },
  {
   "cell_type": "markdown",
   "id": "31361877-8f0b-457c-ba5d-1882c2e76244",
   "metadata": {},
   "source": [
    "* ## `Create Explanatory Visualizations for the most important features`\n",
    "    *  ### Select 2 out of the top 10 features from your permutation importances and produce explanatory visualizations showing the relationship between the feature and the target.\n",
    "    *  ### The purpose is to demonstrate key trends you found that will be of interest to a stakeholder."
   ]
  },
  {
   "cell_type": "markdown",
   "id": "ba5df191-6033-44d6-8c5d-f99d44e23d2d",
   "metadata": {},
   "source": [
    "## `Explanatory Visualization 1`"
   ]
  },
  {
   "cell_type": "code",
   "execution_count": null,
   "id": "875cf2d6-8809-417a-903c-b84e89ae75a8",
   "metadata": {},
   "outputs": [],
   "source": []
  },
  {
   "cell_type": "markdown",
   "id": "58d7d8ce-abc9-4108-8ff2-7121106d2173",
   "metadata": {},
   "source": [
    "## `Explanatory Visualization 2`"
   ]
  },
  {
   "cell_type": "code",
   "execution_count": null,
   "id": "85fa577f-f880-4cd6-968d-7b0abc41e1a8",
   "metadata": {},
   "outputs": [],
   "source": []
  },
  {
   "cell_type": "markdown",
   "id": "aef4d4cf-dedd-4591-ae07-1428e526b99d",
   "metadata": {},
   "source": [
    "## `1. These visuals should be reporting-quality with titles, labels, and a short explanation of the trend.` \n",
    "* ### Explain in a text cell the insight associated with each visual.\n",
    "    * Both of these visualizations should be easily understood by a non-technical audience\n",
    "        * (Neither of these should be histograms, boxplots, or correlation plots).\n",
    "## `2. These will be added to your readme in part 4`"
   ]
  },
  {
   "cell_type": "markdown",
   "id": "f9e47baf-a00c-48cf-923d-ae5b2d65034e",
   "metadata": {},
   "source": [
    "## `Explanatory Visualization 1`"
   ]
  },
  {
   "cell_type": "markdown",
   "id": "2e1b06ef-9bfc-4e71-b565-d0344c2064da",
   "metadata": {},
   "source": []
  },
  {
   "cell_type": "markdown",
   "id": "f56770dc-e664-47c1-9918-7ce6d7a3b474",
   "metadata": {},
   "source": [
    "## `Explanatory Visualization 2`"
   ]
  },
  {
   "cell_type": "markdown",
   "id": "88a69ed1-cb8d-481a-93f0-f0d930069790",
   "metadata": {},
   "source": []
  }
 ],
 "metadata": {
  "kernelspec": {
   "display_name": "Python (dojo-env)",
   "language": "python",
   "name": "dojo-env"
  },
  "language_info": {
   "codemirror_mode": {
    "name": "ipython",
    "version": 3
   },
   "file_extension": ".py",
   "mimetype": "text/x-python",
   "name": "python",
   "nbconvert_exporter": "python",
   "pygments_lexer": "ipython3",
   "version": "3.10.10"
  },
  "widgets": {
   "application/vnd.jupyter.widget-state+json": {
    "state": {},
    "version_major": 2,
    "version_minor": 0
   }
  }
 },
 "nbformat": 4,
 "nbformat_minor": 5
}
